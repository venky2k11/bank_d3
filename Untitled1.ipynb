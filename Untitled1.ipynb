{
 "cells": [
  {
   "cell_type": "markdown",
   "metadata": {},
   "source": [
    "# Import Libraries:"
   ]
  },
  {
   "cell_type": "code",
   "execution_count": 1,
   "metadata": {
    "ExecuteTime": {
     "end_time": "2020-08-17T13:01:39.903242Z",
     "start_time": "2020-08-17T13:01:37.169858Z"
    }
   },
   "outputs": [],
   "source": [
    "import pandas as pd\n",
    "from datetime import *\n",
    "import numpy as np\n",
    "\n",
    "import warnings\n",
    "import statsmodels.api as sm \n",
    "import matplotlib.pyplot as plt\n",
    "\n",
    "from statsmodels.tsa.stattools import adfuller\n",
    "from statsmodels.tsa.seasonal import seasonal_decompose\n",
    "from statsmodels.tsa.arima_model import ARIMA\n",
    "from statsmodels.graphics.tsaplots import plot_acf,plot_pacf\n",
    "from sklearn.metrics import mean_squared_error\n",
    "from matplotlib.pylab import rcParams\n",
    "from math import sqrt\n",
    "from datetime import datetime\n",
    "%matplotlib inline \n",
    "warnings.filterwarnings('ignore')"
   ]
  },
  {
   "cell_type": "markdown",
   "metadata": {},
   "source": [
    "# Reusable Methods / Functions:"
   ]
  },
  {
   "cell_type": "code",
   "execution_count": 2,
   "metadata": {
    "ExecuteTime": {
     "end_time": "2020-08-17T13:01:39.934194Z",
     "start_time": "2020-08-17T13:01:39.906266Z"
    }
   },
   "outputs": [],
   "source": [
    "def label_bm (row):\n",
    "   if row['CAT_NEW'] == 'Need' :\n",
    "      return 50\n",
    "   if row['CAT_NEW'] == 'Desire' :\n",
    "      return 30\n",
    "   if row['CAT_NEW'] == 'Investment' :\n",
    "      return 20    \n",
    "   return 0\n",
    "\n",
    "def label_bmoldcat (row):\n",
    "   if row['CATEGORY'] == 'Utilities' :\n",
    "      return 5\n",
    "   if row['CATEGORY'] == 'Miscellaneous' :\n",
    "      return 1\n",
    "   if row['CATEGORY'] == 'Auto & transport' :\n",
    "      return 1    \n",
    "   if row['CATEGORY'] == 'Chemists' :\n",
    "      return 1    \n",
    "   if row['CATEGORY'] == 'Loan Pay' :\n",
    "      return 33\n",
    "   if row['CATEGORY'] == 'Insurance' :\n",
    "      return 1\n",
    "   if row['CATEGORY'] == 'Grocery & supermarkets' :\n",
    "      return 8    \n",
    "   if row['CATEGORY'] == 'Subscription' :\n",
    "      return 1\n",
    "   if row['CATEGORY'] == 'Retail Shopping' :\n",
    "      return 4\n",
    "   if row['CATEGORY'] == 'Restaurants & dining' :\n",
    "      return 5    \n",
    "   if row['CATEGORY'] == 'Gifts & donations' :\n",
    "      return 1\n",
    "   if row['CATEGORY'] == 'Fast food restaurants' :\n",
    "      return 1\n",
    "   if row['CATEGORY'] == 'Education' :\n",
    "      return 5\n",
    "   if row['CATEGORY'] == 'Cash Out' :\n",
    "      return 1\n",
    "   if row['CATEGORY'] == 'Bottleshops' :\n",
    "      return 1\n",
    "   if row['CATEGORY'] == 'Travel' :\n",
    "      return 3\n",
    "   if row['CATEGORY'] == 'Entertainment' :\n",
    "      return 3\n",
    "   if row['CATEGORY'] == 'Fees & charges' :\n",
    "      return 0\n",
    "   if row['CATEGORY'] == 'Hotels, motels & resorts' :\n",
    "      return 5 \n",
    "   if row['CATEGORY'] == 'Investments' :\n",
    "      return 20  \n",
    "   if row['CATEGORY'] == 'Income' :\n",
    "      return 0    \n",
    "   return 0\n",
    "\n",
    "def label_cat (row):\n",
    "   if row['CATEGORY'] == 'Utilities' :\n",
    "      return 'Need'\n",
    "   if row['CATEGORY'] == 'Miscellaneous' :\n",
    "      return 'Need'\n",
    "   if row['CATEGORY'] == 'Auto & transport' :\n",
    "      return 'Need'    \n",
    "   if row['CATEGORY'] == 'Chemists' :\n",
    "      return 'Need'    \n",
    "   if row['CATEGORY'] == 'Loan Pay' :\n",
    "      return 'Need'\n",
    "   if row['CATEGORY'] == 'Insurance' :\n",
    "      return 'Need'\n",
    "   if row['CATEGORY'] == 'Grocery & supermarkets' :\n",
    "      return 'Need'    \n",
    "   if row['CATEGORY'] == 'Subscription' :\n",
    "      return 'Desire'\n",
    "   if row['CATEGORY'] == 'Retail Shopping' :\n",
    "      return 'Desire'\n",
    "   if row['CATEGORY'] == 'Restaurants & dining' :\n",
    "      return 'Desire'    \n",
    "   if row['CATEGORY'] == 'Gifts & donations' :\n",
    "      return 'Desire'\n",
    "   if row['CATEGORY'] == 'Fast food restaurants' :\n",
    "      return 'Desire'\n",
    "   if row['CATEGORY'] == 'Education' :\n",
    "      return 'Desire'\n",
    "   if row['CATEGORY'] == 'Cash Out' :\n",
    "      return 'Desire'\n",
    "   if row['CATEGORY'] == 'Bottleshops' :\n",
    "      return 'Desire'\n",
    "   if row['CATEGORY'] == 'Travel' :\n",
    "      return 'Desire'\n",
    "   if row['CATEGORY'] == 'Entertainment' :\n",
    "      return 'Desire'\n",
    "   if row['CATEGORY'] == 'Fees & charges' :\n",
    "      return 'Desire'\n",
    "   if row['CATEGORY'] == 'Hotels, motels & resorts' :\n",
    "      return 'Desire' \n",
    "   if row['CATEGORY'] == 'Investments' :\n",
    "      return 'Investment'  \n",
    "   if row['CATEGORY'] == 'Income' :\n",
    "      return 'Income'    \n",
    "   return 'Other'\n",
    "\n",
    "#Ho: It is non stationary\n",
    "#H1: It is stationary\n",
    "\n",
    "def adfuller_test(sales):\n",
    "    result=adfuller(sales)\n",
    "    labels = ['ADF Test Statistic','p-value','#Lags Used','Number of Observations Used']\n",
    "    for value,label in zip(result,labels):\n",
    "        print(label+' : '+str(value) )\n",
    "    if result[1] <= 0.05:\n",
    "        print(\"strong evidence against the null hypothesis(Ho), reject the null hypothesis. Data has no unit root and is stationary\")\n",
    "    else:\n",
    "        print(\"weak evidence against null hypothesis, time series has a unit root, indicating it is non-stationary \")\n",
    "        \n",
    "def test_stationarity(timeseries):\n",
    "    rolmean = timeseries.rolling(window=12).mean()\n",
    "    rolstd = timeseries.rolling(window=12).std()\n",
    "\n",
    "    #Plot rolling statistics:\n",
    "    orig = plt.plot(timeseries, color='blue',label='Original')\n",
    "    mean = plt.plot(rolmean, color='red', label='Rolling Mean')\n",
    "    std = plt.plot(rolstd, color='black', label = 'Rolling Std')\n",
    "    plt.legend(loc='best')\n",
    "    plt.title('Rolling Mean & Standard Deviation')\n",
    "    plt.show(block=False)\n",
    "    \n",
    "    #Perform Dickey-Fuller test:\n",
    "    print('Results of Dickey-Fuller Test:')\n",
    "    dftest = adfuller(timeseries, autolag='AIC')\n",
    "    dfoutput = pd.Series(dftest[0:4], index=['Test Statistic','p-value','#Lags Used','Number of Observations Used'])\n",
    "    for key,value in dftest[4].items():\n",
    "        dfoutput['Critical Value (%s)'%key] = value\n",
    "    print(dfoutput)"
   ]
  },
  {
   "cell_type": "markdown",
   "metadata": {},
   "source": [
    "# Load Data:"
   ]
  },
  {
   "cell_type": "code",
   "execution_count": 3,
   "metadata": {
    "ExecuteTime": {
     "end_time": "2020-08-17T13:01:39.965194Z",
     "start_time": "2020-08-17T13:01:39.937196Z"
    }
   },
   "outputs": [],
   "source": [
    "n = 60\n",
    "data = pd.read_csv('OriginalFile_v2.csv')"
   ]
  },
  {
   "cell_type": "code",
   "execution_count": 4,
   "metadata": {
    "ExecuteTime": {
     "end_time": "2020-08-17T13:01:39.981194Z",
     "start_time": "2020-08-17T13:01:39.968197Z"
    }
   },
   "outputs": [],
   "source": [
    "# import sweetviz\n",
    "# my_report = sweetviz.analyze([data, \"Transactions\"])\n",
    "# my_report.show_html('Report.html')"
   ]
  },
  {
   "cell_type": "markdown",
   "metadata": {},
   "source": [
    "# Extract Year & Month from Date:"
   ]
  },
  {
   "cell_type": "code",
   "execution_count": 5,
   "metadata": {
    "ExecuteTime": {
     "end_time": "2020-08-17T13:01:40.060197Z",
     "start_time": "2020-08-17T13:01:39.983209Z"
    }
   },
   "outputs": [
    {
     "data": {
      "text/html": [
       "<div>\n",
       "<style scoped>\n",
       "    .dataframe tbody tr th:only-of-type {\n",
       "        vertical-align: middle;\n",
       "    }\n",
       "\n",
       "    .dataframe tbody tr th {\n",
       "        vertical-align: top;\n",
       "    }\n",
       "\n",
       "    .dataframe thead th {\n",
       "        text-align: right;\n",
       "    }\n",
       "</style>\n",
       "<table border=\"1\" class=\"dataframe\">\n",
       "  <thead>\n",
       "    <tr style=\"text-align: right;\">\n",
       "      <th></th>\n",
       "      <th>DATE</th>\n",
       "      <th>Amount2</th>\n",
       "      <th>CATEGORY2</th>\n",
       "      <th>MONTH</th>\n",
       "      <th>YEAR</th>\n",
       "    </tr>\n",
       "  </thead>\n",
       "  <tbody>\n",
       "    <tr>\n",
       "      <th>2231</th>\n",
       "      <td>2020-08-04</td>\n",
       "      <td>10.00</td>\n",
       "      <td>Restaurants &amp; dining</td>\n",
       "      <td>8</td>\n",
       "      <td>2020</td>\n",
       "    </tr>\n",
       "    <tr>\n",
       "      <th>2047</th>\n",
       "      <td>2020-08-10</td>\n",
       "      <td>870.00</td>\n",
       "      <td>Loan Pay</td>\n",
       "      <td>8</td>\n",
       "      <td>2020</td>\n",
       "    </tr>\n",
       "    <tr>\n",
       "      <th>2048</th>\n",
       "      <td>2020-08-10</td>\n",
       "      <td>-500.00</td>\n",
       "      <td>Loan Pay</td>\n",
       "      <td>8</td>\n",
       "      <td>2020</td>\n",
       "    </tr>\n",
       "    <tr>\n",
       "      <th>2049</th>\n",
       "      <td>2020-08-03</td>\n",
       "      <td>870.00</td>\n",
       "      <td>Loan Pay</td>\n",
       "      <td>8</td>\n",
       "      <td>2020</td>\n",
       "    </tr>\n",
       "    <tr>\n",
       "      <th>1900</th>\n",
       "      <td>2020-08-05</td>\n",
       "      <td>83.54</td>\n",
       "      <td>Insurance</td>\n",
       "      <td>8</td>\n",
       "      <td>2020</td>\n",
       "    </tr>\n",
       "  </tbody>\n",
       "</table>\n",
       "</div>"
      ],
      "text/plain": [
       "           DATE  Amount2             CATEGORY2  MONTH  YEAR\n",
       "2231 2020-08-04    10.00  Restaurants & dining      8  2020\n",
       "2047 2020-08-10   870.00              Loan Pay      8  2020\n",
       "2048 2020-08-10  -500.00              Loan Pay      8  2020\n",
       "2049 2020-08-03   870.00              Loan Pay      8  2020\n",
       "1900 2020-08-05    83.54             Insurance      8  2020"
      ]
     },
     "execution_count": 5,
     "metadata": {},
     "output_type": "execute_result"
    }
   ],
   "source": [
    "data['DATE']  = pd.to_datetime(data['DATE']).apply(lambda x: x.date())\n",
    "data['DATE']  = pd.to_datetime(data.DATE,format='%Y-%m-%d')\n",
    "data['MONTH'] = data['DATE'].apply(lambda x:x.month)\n",
    "data['YEAR']  = data['DATE'].apply(lambda x:x.year)\n",
    "data.drop(['AMOUNT','DESCRIPTION','BALANCE'], axis=1, inplace=True)\n",
    "data = data.sort_values([\"YEAR\", \"MONTH\", \"CATEGORY2\"], ascending = False)\n",
    "data.head()"
   ]
  },
  {
   "cell_type": "markdown",
   "metadata": {},
   "source": [
    "# Income per Month:"
   ]
  },
  {
   "cell_type": "code",
   "execution_count": 6,
   "metadata": {
    "ExecuteTime": {
     "end_time": "2020-08-17T13:01:40.106204Z",
     "start_time": "2020-08-17T13:01:40.063199Z"
    }
   },
   "outputs": [
    {
     "data": {
      "text/html": [
       "<div>\n",
       "<style scoped>\n",
       "    .dataframe tbody tr th:only-of-type {\n",
       "        vertical-align: middle;\n",
       "    }\n",
       "\n",
       "    .dataframe tbody tr th {\n",
       "        vertical-align: top;\n",
       "    }\n",
       "\n",
       "    .dataframe thead th {\n",
       "        text-align: right;\n",
       "    }\n",
       "</style>\n",
       "<table border=\"1\" class=\"dataframe\">\n",
       "  <thead>\n",
       "    <tr style=\"text-align: right;\">\n",
       "      <th></th>\n",
       "      <th>DATE</th>\n",
       "      <th>AMOUNT</th>\n",
       "      <th>CATEGORY</th>\n",
       "      <th>MONTH</th>\n",
       "      <th>YEAR</th>\n",
       "      <th>Income</th>\n",
       "    </tr>\n",
       "  </thead>\n",
       "  <tbody>\n",
       "    <tr>\n",
       "      <th>0</th>\n",
       "      <td>2020-08-04</td>\n",
       "      <td>10.00</td>\n",
       "      <td>Restaurants &amp; dining</td>\n",
       "      <td>8</td>\n",
       "      <td>2020</td>\n",
       "      <td>-10362.58</td>\n",
       "    </tr>\n",
       "    <tr>\n",
       "      <th>1</th>\n",
       "      <td>2020-08-10</td>\n",
       "      <td>870.00</td>\n",
       "      <td>Loan Pay</td>\n",
       "      <td>8</td>\n",
       "      <td>2020</td>\n",
       "      <td>-10362.58</td>\n",
       "    </tr>\n",
       "    <tr>\n",
       "      <th>2</th>\n",
       "      <td>2020-08-10</td>\n",
       "      <td>-500.00</td>\n",
       "      <td>Loan Pay</td>\n",
       "      <td>8</td>\n",
       "      <td>2020</td>\n",
       "      <td>-10362.58</td>\n",
       "    </tr>\n",
       "    <tr>\n",
       "      <th>3</th>\n",
       "      <td>2020-08-03</td>\n",
       "      <td>870.00</td>\n",
       "      <td>Loan Pay</td>\n",
       "      <td>8</td>\n",
       "      <td>2020</td>\n",
       "      <td>-10362.58</td>\n",
       "    </tr>\n",
       "    <tr>\n",
       "      <th>4</th>\n",
       "      <td>2020-08-05</td>\n",
       "      <td>83.54</td>\n",
       "      <td>Insurance</td>\n",
       "      <td>8</td>\n",
       "      <td>2020</td>\n",
       "      <td>-10362.58</td>\n",
       "    </tr>\n",
       "  </tbody>\n",
       "</table>\n",
       "</div>"
      ],
      "text/plain": [
       "        DATE  AMOUNT              CATEGORY  MONTH  YEAR    Income\n",
       "0 2020-08-04   10.00  Restaurants & dining      8  2020 -10362.58\n",
       "1 2020-08-10  870.00              Loan Pay      8  2020 -10362.58\n",
       "2 2020-08-10 -500.00              Loan Pay      8  2020 -10362.58\n",
       "3 2020-08-03  870.00              Loan Pay      8  2020 -10362.58\n",
       "4 2020-08-05   83.54             Insurance      8  2020 -10362.58"
      ]
     },
     "execution_count": 6,
     "metadata": {},
     "output_type": "execute_result"
    }
   ],
   "source": [
    "df2 = data[data['CATEGORY2'] == 'Income'].groupby(['MONTH','YEAR'])['Amount2'].sum().reset_index().sort_values(['YEAR','MONTH'], ascending=False)\n",
    "df2.columns=['MONTH', 'YEAR', 'Income']\n",
    "data = pd.merge(data, df2, how='left', on=['MONTH','YEAR'])\n",
    "data.columns = ['DATE', 'AMOUNT','CATEGORY','MONTH', 'YEAR', 'Income']\n",
    "data = data.sort_values([\"YEAR\", \"MONTH\", \"CATEGORY\"], ascending = False)\n",
    "data.head()"
   ]
  },
  {
   "cell_type": "markdown",
   "metadata": {},
   "source": [
    "# Expenses per Category per Month:"
   ]
  },
  {
   "cell_type": "code",
   "execution_count": 7,
   "metadata": {
    "ExecuteTime": {
     "end_time": "2020-08-17T13:01:40.152236Z",
     "start_time": "2020-08-17T13:01:40.109196Z"
    }
   },
   "outputs": [
    {
     "data": {
      "text/html": [
       "<div>\n",
       "<style scoped>\n",
       "    .dataframe tbody tr th:only-of-type {\n",
       "        vertical-align: middle;\n",
       "    }\n",
       "\n",
       "    .dataframe tbody tr th {\n",
       "        vertical-align: top;\n",
       "    }\n",
       "\n",
       "    .dataframe thead th {\n",
       "        text-align: right;\n",
       "    }\n",
       "</style>\n",
       "<table border=\"1\" class=\"dataframe\">\n",
       "  <thead>\n",
       "    <tr style=\"text-align: right;\">\n",
       "      <th></th>\n",
       "      <th>DATE</th>\n",
       "      <th>AMOUNT</th>\n",
       "      <th>CATEGORY</th>\n",
       "      <th>MONTH</th>\n",
       "      <th>YEAR</th>\n",
       "      <th>INCOME</th>\n",
       "      <th>CAT_TOT</th>\n",
       "    </tr>\n",
       "  </thead>\n",
       "  <tbody>\n",
       "    <tr>\n",
       "      <th>0</th>\n",
       "      <td>2020-08-04</td>\n",
       "      <td>10.00</td>\n",
       "      <td>Restaurants &amp; dining</td>\n",
       "      <td>8</td>\n",
       "      <td>2020</td>\n",
       "      <td>-10362.58</td>\n",
       "      <td>10.0</td>\n",
       "    </tr>\n",
       "    <tr>\n",
       "      <th>1</th>\n",
       "      <td>2020-08-10</td>\n",
       "      <td>870.00</td>\n",
       "      <td>Loan Pay</td>\n",
       "      <td>8</td>\n",
       "      <td>2020</td>\n",
       "      <td>-10362.58</td>\n",
       "      <td>1240.0</td>\n",
       "    </tr>\n",
       "    <tr>\n",
       "      <th>2</th>\n",
       "      <td>2020-08-10</td>\n",
       "      <td>-500.00</td>\n",
       "      <td>Loan Pay</td>\n",
       "      <td>8</td>\n",
       "      <td>2020</td>\n",
       "      <td>-10362.58</td>\n",
       "      <td>1240.0</td>\n",
       "    </tr>\n",
       "    <tr>\n",
       "      <th>3</th>\n",
       "      <td>2020-08-03</td>\n",
       "      <td>870.00</td>\n",
       "      <td>Loan Pay</td>\n",
       "      <td>8</td>\n",
       "      <td>2020</td>\n",
       "      <td>-10362.58</td>\n",
       "      <td>1240.0</td>\n",
       "    </tr>\n",
       "    <tr>\n",
       "      <th>4</th>\n",
       "      <td>2020-08-05</td>\n",
       "      <td>83.54</td>\n",
       "      <td>Insurance</td>\n",
       "      <td>8</td>\n",
       "      <td>2020</td>\n",
       "      <td>-10362.58</td>\n",
       "      <td>416.5</td>\n",
       "    </tr>\n",
       "  </tbody>\n",
       "</table>\n",
       "</div>"
      ],
      "text/plain": [
       "        DATE  AMOUNT              CATEGORY  MONTH  YEAR    INCOME  CAT_TOT\n",
       "0 2020-08-04   10.00  Restaurants & dining      8  2020 -10362.58     10.0\n",
       "1 2020-08-10  870.00              Loan Pay      8  2020 -10362.58   1240.0\n",
       "2 2020-08-10 -500.00              Loan Pay      8  2020 -10362.58   1240.0\n",
       "3 2020-08-03  870.00              Loan Pay      8  2020 -10362.58   1240.0\n",
       "4 2020-08-05   83.54             Insurance      8  2020 -10362.58    416.5"
      ]
     },
     "execution_count": 7,
     "metadata": {},
     "output_type": "execute_result"
    }
   ],
   "source": [
    "df2 = data.groupby(['MONTH','YEAR','CATEGORY'])['AMOUNT'].sum().reset_index().sort_values(['YEAR','MONTH','CATEGORY'], ascending=False)\n",
    "df2.columns=['MONTH', 'YEAR', 'CATEGORY','CAT_TOT']\n",
    "data = pd.merge(data, df2, how='left', on=['MONTH','YEAR','CATEGORY'])\n",
    "data.columns = ['DATE','AMOUNT','CATEGORY','MONTH','YEAR','INCOME','CAT_TOT']\n",
    "data.head()"
   ]
  },
  {
   "cell_type": "markdown",
   "metadata": {},
   "source": [
    "# Category Count per Month"
   ]
  },
  {
   "cell_type": "code",
   "execution_count": 8,
   "metadata": {
    "ExecuteTime": {
     "end_time": "2020-08-17T13:01:40.199226Z",
     "start_time": "2020-08-17T13:01:40.155198Z"
    }
   },
   "outputs": [
    {
     "data": {
      "text/html": [
       "<div>\n",
       "<style scoped>\n",
       "    .dataframe tbody tr th:only-of-type {\n",
       "        vertical-align: middle;\n",
       "    }\n",
       "\n",
       "    .dataframe tbody tr th {\n",
       "        vertical-align: top;\n",
       "    }\n",
       "\n",
       "    .dataframe thead th {\n",
       "        text-align: right;\n",
       "    }\n",
       "</style>\n",
       "<table border=\"1\" class=\"dataframe\">\n",
       "  <thead>\n",
       "    <tr style=\"text-align: right;\">\n",
       "      <th></th>\n",
       "      <th>DATE</th>\n",
       "      <th>AMOUNT</th>\n",
       "      <th>CATEGORY</th>\n",
       "      <th>MONTH</th>\n",
       "      <th>YEAR</th>\n",
       "      <th>INCOME</th>\n",
       "      <th>CAT_TOT</th>\n",
       "      <th>CATEGORY_COUNT</th>\n",
       "    </tr>\n",
       "  </thead>\n",
       "  <tbody>\n",
       "    <tr>\n",
       "      <th>0</th>\n",
       "      <td>2020-08-04</td>\n",
       "      <td>10.00</td>\n",
       "      <td>Restaurants &amp; dining</td>\n",
       "      <td>8</td>\n",
       "      <td>2020</td>\n",
       "      <td>-10362.58</td>\n",
       "      <td>10.0</td>\n",
       "      <td>1</td>\n",
       "    </tr>\n",
       "    <tr>\n",
       "      <th>1</th>\n",
       "      <td>2020-08-10</td>\n",
       "      <td>870.00</td>\n",
       "      <td>Loan Pay</td>\n",
       "      <td>8</td>\n",
       "      <td>2020</td>\n",
       "      <td>-10362.58</td>\n",
       "      <td>1240.0</td>\n",
       "      <td>3</td>\n",
       "    </tr>\n",
       "    <tr>\n",
       "      <th>2</th>\n",
       "      <td>2020-08-10</td>\n",
       "      <td>-500.00</td>\n",
       "      <td>Loan Pay</td>\n",
       "      <td>8</td>\n",
       "      <td>2020</td>\n",
       "      <td>-10362.58</td>\n",
       "      <td>1240.0</td>\n",
       "      <td>3</td>\n",
       "    </tr>\n",
       "    <tr>\n",
       "      <th>3</th>\n",
       "      <td>2020-08-03</td>\n",
       "      <td>870.00</td>\n",
       "      <td>Loan Pay</td>\n",
       "      <td>8</td>\n",
       "      <td>2020</td>\n",
       "      <td>-10362.58</td>\n",
       "      <td>1240.0</td>\n",
       "      <td>3</td>\n",
       "    </tr>\n",
       "    <tr>\n",
       "      <th>4</th>\n",
       "      <td>2020-08-05</td>\n",
       "      <td>83.54</td>\n",
       "      <td>Insurance</td>\n",
       "      <td>8</td>\n",
       "      <td>2020</td>\n",
       "      <td>-10362.58</td>\n",
       "      <td>416.5</td>\n",
       "      <td>3</td>\n",
       "    </tr>\n",
       "  </tbody>\n",
       "</table>\n",
       "</div>"
      ],
      "text/plain": [
       "        DATE  AMOUNT              CATEGORY  MONTH  YEAR    INCOME  CAT_TOT  \\\n",
       "0 2020-08-04   10.00  Restaurants & dining      8  2020 -10362.58     10.0   \n",
       "1 2020-08-10  870.00              Loan Pay      8  2020 -10362.58   1240.0   \n",
       "2 2020-08-10 -500.00              Loan Pay      8  2020 -10362.58   1240.0   \n",
       "3 2020-08-03  870.00              Loan Pay      8  2020 -10362.58   1240.0   \n",
       "4 2020-08-05   83.54             Insurance      8  2020 -10362.58    416.5   \n",
       "\n",
       "   CATEGORY_COUNT  \n",
       "0               1  \n",
       "1               3  \n",
       "2               3  \n",
       "3               3  \n",
       "4               3  "
      ]
     },
     "execution_count": 8,
     "metadata": {},
     "output_type": "execute_result"
    }
   ],
   "source": [
    "df2 = data.groupby(['MONTH','YEAR','CATEGORY'])['AMOUNT'].count().reset_index().sort_values(['YEAR','MONTH','CATEGORY'], ascending=False)\n",
    "df2.columns=['MONTH', 'YEAR', 'CATEGORY','CATEGORY_COUNT']\n",
    "data = pd.merge(data, df2, how='left', on=['MONTH','YEAR','CATEGORY'])\n",
    "data.columns = ['DATE','AMOUNT','CATEGORY','MONTH','YEAR','INCOME','CAT_TOT','CATEGORY_COUNT']\n",
    "data.head()"
   ]
  },
  {
   "cell_type": "markdown",
   "metadata": {},
   "source": [
    "# Drop Duplicates per [Year ,Month,Category]:"
   ]
  },
  {
   "cell_type": "code",
   "execution_count": 9,
   "metadata": {
    "ExecuteTime": {
     "end_time": "2020-08-17T13:01:40.231194Z",
     "start_time": "2020-08-17T13:01:40.201214Z"
    }
   },
   "outputs": [
    {
     "data": {
      "text/html": [
       "<div>\n",
       "<style scoped>\n",
       "    .dataframe tbody tr th:only-of-type {\n",
       "        vertical-align: middle;\n",
       "    }\n",
       "\n",
       "    .dataframe tbody tr th {\n",
       "        vertical-align: top;\n",
       "    }\n",
       "\n",
       "    .dataframe thead th {\n",
       "        text-align: right;\n",
       "    }\n",
       "</style>\n",
       "<table border=\"1\" class=\"dataframe\">\n",
       "  <thead>\n",
       "    <tr style=\"text-align: right;\">\n",
       "      <th></th>\n",
       "      <th>DATE</th>\n",
       "      <th>AMOUNT</th>\n",
       "      <th>CATEGORY</th>\n",
       "      <th>MONTH</th>\n",
       "      <th>YEAR</th>\n",
       "      <th>INCOME</th>\n",
       "      <th>CAT_TOT</th>\n",
       "      <th>CATEGORY_COUNT</th>\n",
       "    </tr>\n",
       "  </thead>\n",
       "  <tbody>\n",
       "    <tr>\n",
       "      <th>0</th>\n",
       "      <td>2020-08-04</td>\n",
       "      <td>10.00</td>\n",
       "      <td>Restaurants &amp; dining</td>\n",
       "      <td>8</td>\n",
       "      <td>2020</td>\n",
       "      <td>-10362.58</td>\n",
       "      <td>10.00</td>\n",
       "      <td>1</td>\n",
       "    </tr>\n",
       "    <tr>\n",
       "      <th>1</th>\n",
       "      <td>2020-08-03</td>\n",
       "      <td>870.00</td>\n",
       "      <td>Loan Pay</td>\n",
       "      <td>8</td>\n",
       "      <td>2020</td>\n",
       "      <td>-10362.58</td>\n",
       "      <td>1240.00</td>\n",
       "      <td>3</td>\n",
       "    </tr>\n",
       "    <tr>\n",
       "      <th>2</th>\n",
       "      <td>2020-08-03</td>\n",
       "      <td>242.96</td>\n",
       "      <td>Insurance</td>\n",
       "      <td>8</td>\n",
       "      <td>2020</td>\n",
       "      <td>-10362.58</td>\n",
       "      <td>416.50</td>\n",
       "      <td>3</td>\n",
       "    </tr>\n",
       "    <tr>\n",
       "      <th>3</th>\n",
       "      <td>2020-08-07</td>\n",
       "      <td>-60.00</td>\n",
       "      <td>Income</td>\n",
       "      <td>8</td>\n",
       "      <td>2020</td>\n",
       "      <td>-10362.58</td>\n",
       "      <td>-10362.58</td>\n",
       "      <td>2</td>\n",
       "    </tr>\n",
       "    <tr>\n",
       "      <th>4</th>\n",
       "      <td>2020-08-03</td>\n",
       "      <td>22.60</td>\n",
       "      <td>Grocery &amp; supermarkets</td>\n",
       "      <td>8</td>\n",
       "      <td>2020</td>\n",
       "      <td>-10362.58</td>\n",
       "      <td>189.91</td>\n",
       "      <td>9</td>\n",
       "    </tr>\n",
       "  </tbody>\n",
       "</table>\n",
       "</div>"
      ],
      "text/plain": [
       "        DATE  AMOUNT                CATEGORY  MONTH  YEAR    INCOME   CAT_TOT  \\\n",
       "0 2020-08-04   10.00    Restaurants & dining      8  2020 -10362.58     10.00   \n",
       "1 2020-08-03  870.00                Loan Pay      8  2020 -10362.58   1240.00   \n",
       "2 2020-08-03  242.96               Insurance      8  2020 -10362.58    416.50   \n",
       "3 2020-08-07  -60.00                  Income      8  2020 -10362.58 -10362.58   \n",
       "4 2020-08-03   22.60  Grocery & supermarkets      8  2020 -10362.58    189.91   \n",
       "\n",
       "   CATEGORY_COUNT  \n",
       "0               1  \n",
       "1               3  \n",
       "2               3  \n",
       "3               2  \n",
       "4               9  "
      ]
     },
     "execution_count": 9,
     "metadata": {},
     "output_type": "execute_result"
    }
   ],
   "source": [
    "data.drop_duplicates(subset=['YEAR','MONTH','CATEGORY'],inplace=True, keep=\"last\")\n",
    "data.reset_index(drop =True,inplace=True)\n",
    "data.head()"
   ]
  },
  {
   "cell_type": "markdown",
   "metadata": {},
   "source": [
    "# % Category Spent of Income:"
   ]
  },
  {
   "cell_type": "code",
   "execution_count": 10,
   "metadata": {
    "ExecuteTime": {
     "end_time": "2020-08-17T13:01:40.278228Z",
     "start_time": "2020-08-17T13:01:40.233197Z"
    }
   },
   "outputs": [
    {
     "data": {
      "text/html": [
       "<div>\n",
       "<style scoped>\n",
       "    .dataframe tbody tr th:only-of-type {\n",
       "        vertical-align: middle;\n",
       "    }\n",
       "\n",
       "    .dataframe tbody tr th {\n",
       "        vertical-align: top;\n",
       "    }\n",
       "\n",
       "    .dataframe thead th {\n",
       "        text-align: right;\n",
       "    }\n",
       "</style>\n",
       "<table border=\"1\" class=\"dataframe\">\n",
       "  <thead>\n",
       "    <tr style=\"text-align: right;\">\n",
       "      <th></th>\n",
       "      <th>YEAR</th>\n",
       "      <th>MONTH</th>\n",
       "      <th>CATEGORY</th>\n",
       "      <th>DATE</th>\n",
       "      <th>AMOUNT</th>\n",
       "      <th>INCOME</th>\n",
       "      <th>CAT_TOT</th>\n",
       "      <th>CATEGORY_COUNT</th>\n",
       "      <th>CAT_INCM_PCENT</th>\n",
       "    </tr>\n",
       "  </thead>\n",
       "  <tbody>\n",
       "    <tr>\n",
       "      <th>0</th>\n",
       "      <td>2020</td>\n",
       "      <td>8</td>\n",
       "      <td>Restaurants &amp; dining</td>\n",
       "      <td>2020-08-04</td>\n",
       "      <td>10.00</td>\n",
       "      <td>-10362.58</td>\n",
       "      <td>10.00</td>\n",
       "      <td>1</td>\n",
       "      <td>0.096501</td>\n",
       "    </tr>\n",
       "    <tr>\n",
       "      <th>1</th>\n",
       "      <td>2020</td>\n",
       "      <td>8</td>\n",
       "      <td>Loan Pay</td>\n",
       "      <td>2020-08-03</td>\n",
       "      <td>870.00</td>\n",
       "      <td>-10362.58</td>\n",
       "      <td>1240.00</td>\n",
       "      <td>3</td>\n",
       "      <td>11.966132</td>\n",
       "    </tr>\n",
       "    <tr>\n",
       "      <th>2</th>\n",
       "      <td>2020</td>\n",
       "      <td>8</td>\n",
       "      <td>Insurance</td>\n",
       "      <td>2020-08-03</td>\n",
       "      <td>242.96</td>\n",
       "      <td>-10362.58</td>\n",
       "      <td>416.50</td>\n",
       "      <td>3</td>\n",
       "      <td>4.019269</td>\n",
       "    </tr>\n",
       "    <tr>\n",
       "      <th>3</th>\n",
       "      <td>2020</td>\n",
       "      <td>8</td>\n",
       "      <td>Income</td>\n",
       "      <td>2020-08-07</td>\n",
       "      <td>-60.00</td>\n",
       "      <td>-10362.58</td>\n",
       "      <td>-10362.58</td>\n",
       "      <td>2</td>\n",
       "      <td>-100.000000</td>\n",
       "    </tr>\n",
       "    <tr>\n",
       "      <th>4</th>\n",
       "      <td>2020</td>\n",
       "      <td>8</td>\n",
       "      <td>Grocery &amp; supermarkets</td>\n",
       "      <td>2020-08-03</td>\n",
       "      <td>22.60</td>\n",
       "      <td>-10362.58</td>\n",
       "      <td>189.91</td>\n",
       "      <td>9</td>\n",
       "      <td>1.832652</td>\n",
       "    </tr>\n",
       "  </tbody>\n",
       "</table>\n",
       "</div>"
      ],
      "text/plain": [
       "   YEAR  MONTH                CATEGORY       DATE  AMOUNT    INCOME   CAT_TOT  \\\n",
       "0  2020      8    Restaurants & dining 2020-08-04   10.00 -10362.58     10.00   \n",
       "1  2020      8                Loan Pay 2020-08-03  870.00 -10362.58   1240.00   \n",
       "2  2020      8               Insurance 2020-08-03  242.96 -10362.58    416.50   \n",
       "3  2020      8                  Income 2020-08-07  -60.00 -10362.58 -10362.58   \n",
       "4  2020      8  Grocery & supermarkets 2020-08-03   22.60 -10362.58    189.91   \n",
       "\n",
       "   CATEGORY_COUNT  CAT_INCM_PCENT  \n",
       "0               1        0.096501  \n",
       "1               3       11.966132  \n",
       "2               3        4.019269  \n",
       "3               2     -100.000000  \n",
       "4               9        1.832652  "
      ]
     },
     "execution_count": 10,
     "metadata": {},
     "output_type": "execute_result"
    }
   ],
   "source": [
    "data['CAT_INCM_PCENT'] = (data['CAT_TOT']/data['INCOME'])*-100\n",
    "data = data.sort_values([\"YEAR\", \"MONTH\", \"CATEGORY\"], ascending = False)\n",
    "data = data[['YEAR','MONTH','CATEGORY','DATE', 'AMOUNT', 'INCOME', 'CAT_TOT','CATEGORY_COUNT','CAT_INCM_PCENT']]\n",
    "data.head()"
   ]
  },
  {
   "cell_type": "markdown",
   "metadata": {},
   "source": [
    "Drop 1 month: Analysis shall be done on last 24 months:"
   ]
  },
  {
   "cell_type": "code",
   "execution_count": 11,
   "metadata": {
    "ExecuteTime": {
     "end_time": "2020-08-17T13:01:40.294194Z",
     "start_time": "2020-08-17T13:01:40.280194Z"
    },
    "scrolled": false
   },
   "outputs": [],
   "source": [
    "data = data.drop(data[(data['YEAR'] == 2020) & (data['MONTH'] == 8)].index)\n",
    "data = data.drop(data[data['CATEGORY']=='Income'].index)\n",
    "data['KEY']=data['YEAR'].astype(str)+data['MONTH'].astype(str)\n",
    "interval_count = len(data['KEY'].unique().tolist())"
   ]
  },
  {
   "cell_type": "markdown",
   "metadata": {},
   "source": [
    "# Convert Income notation:"
   ]
  },
  {
   "cell_type": "code",
   "execution_count": 12,
   "metadata": {
    "ExecuteTime": {
     "end_time": "2020-08-17T13:01:40.310195Z",
     "start_time": "2020-08-17T13:01:40.296194Z"
    }
   },
   "outputs": [],
   "source": [
    "data['INCOME'] = data['INCOME'] *-1"
   ]
  },
  {
   "cell_type": "markdown",
   "metadata": {},
   "source": [
    "# Group Categories into Need, Desire,Investments:"
   ]
  },
  {
   "cell_type": "code",
   "execution_count": 13,
   "metadata": {
    "ExecuteTime": {
     "end_time": "2020-08-17T13:01:40.390201Z",
     "start_time": "2020-08-17T13:01:40.312197Z"
    }
   },
   "outputs": [
    {
     "data": {
      "text/html": [
       "<div>\n",
       "<style scoped>\n",
       "    .dataframe tbody tr th:only-of-type {\n",
       "        vertical-align: middle;\n",
       "    }\n",
       "\n",
       "    .dataframe tbody tr th {\n",
       "        vertical-align: top;\n",
       "    }\n",
       "\n",
       "    .dataframe thead th {\n",
       "        text-align: right;\n",
       "    }\n",
       "</style>\n",
       "<table border=\"1\" class=\"dataframe\">\n",
       "  <thead>\n",
       "    <tr style=\"text-align: right;\">\n",
       "      <th></th>\n",
       "      <th>YEAR</th>\n",
       "      <th>MONTH</th>\n",
       "      <th>CATEGORY</th>\n",
       "      <th>CAT_NEW</th>\n",
       "      <th>DATE</th>\n",
       "      <th>INCOME</th>\n",
       "      <th>CAT_TOT</th>\n",
       "      <th>CATEGORY_COUNT</th>\n",
       "      <th>CAT_INCM_PCENT</th>\n",
       "    </tr>\n",
       "  </thead>\n",
       "  <tbody>\n",
       "    <tr>\n",
       "      <th>10</th>\n",
       "      <td>2020</td>\n",
       "      <td>7</td>\n",
       "      <td>Utilities</td>\n",
       "      <td>Need</td>\n",
       "      <td>2020-07-15</td>\n",
       "      <td>13218.79</td>\n",
       "      <td>386.87</td>\n",
       "      <td>2</td>\n",
       "      <td>2.926667</td>\n",
       "    </tr>\n",
       "    <tr>\n",
       "      <th>14</th>\n",
       "      <td>2020</td>\n",
       "      <td>7</td>\n",
       "      <td>Miscellaneous</td>\n",
       "      <td>Need</td>\n",
       "      <td>2020-07-12</td>\n",
       "      <td>13218.79</td>\n",
       "      <td>95.96</td>\n",
       "      <td>3</td>\n",
       "      <td>0.725936</td>\n",
       "    </tr>\n",
       "    <tr>\n",
       "      <th>15</th>\n",
       "      <td>2020</td>\n",
       "      <td>7</td>\n",
       "      <td>Loan Pay</td>\n",
       "      <td>Need</td>\n",
       "      <td>2020-07-06</td>\n",
       "      <td>13218.79</td>\n",
       "      <td>7480.00</td>\n",
       "      <td>9</td>\n",
       "      <td>56.586117</td>\n",
       "    </tr>\n",
       "    <tr>\n",
       "      <th>17</th>\n",
       "      <td>2020</td>\n",
       "      <td>7</td>\n",
       "      <td>Insurance</td>\n",
       "      <td>Need</td>\n",
       "      <td>2020-07-01</td>\n",
       "      <td>13218.79</td>\n",
       "      <td>404.95</td>\n",
       "      <td>3</td>\n",
       "      <td>3.063442</td>\n",
       "    </tr>\n",
       "    <tr>\n",
       "      <th>19</th>\n",
       "      <td>2020</td>\n",
       "      <td>7</td>\n",
       "      <td>Grocery &amp; supermarkets</td>\n",
       "      <td>Need</td>\n",
       "      <td>2020-07-01</td>\n",
       "      <td>13218.79</td>\n",
       "      <td>899.42</td>\n",
       "      <td>42</td>\n",
       "      <td>6.804102</td>\n",
       "    </tr>\n",
       "  </tbody>\n",
       "</table>\n",
       "</div>"
      ],
      "text/plain": [
       "    YEAR  MONTH                CATEGORY CAT_NEW       DATE    INCOME  CAT_TOT  \\\n",
       "10  2020      7               Utilities    Need 2020-07-15  13218.79   386.87   \n",
       "14  2020      7           Miscellaneous    Need 2020-07-12  13218.79    95.96   \n",
       "15  2020      7                Loan Pay    Need 2020-07-06  13218.79  7480.00   \n",
       "17  2020      7               Insurance    Need 2020-07-01  13218.79   404.95   \n",
       "19  2020      7  Grocery & supermarkets    Need 2020-07-01  13218.79   899.42   \n",
       "\n",
       "    CATEGORY_COUNT  CAT_INCM_PCENT  \n",
       "10               2        2.926667  \n",
       "14               3        0.725936  \n",
       "15               9       56.586117  \n",
       "17               3        3.063442  \n",
       "19              42        6.804102  "
      ]
     },
     "execution_count": 13,
     "metadata": {},
     "output_type": "execute_result"
    }
   ],
   "source": [
    "data['CAT_NEW'] = data.apply (lambda row: label_cat(row), axis=1)\n",
    "data = data[['YEAR', 'MONTH', 'CATEGORY', 'CAT_NEW', 'DATE', 'AMOUNT', 'INCOME', 'CAT_TOT',\n",
    "       'CATEGORY_COUNT', 'CAT_INCM_PCENT', 'KEY']]\n",
    "data.drop(['AMOUNT', 'KEY'], axis=1, inplace=True)\n",
    "data = data.sort_values([\"YEAR\", \"MONTH\", \"CAT_NEW\"], ascending = False)\n",
    "data.head()"
   ]
  },
  {
   "cell_type": "markdown",
   "metadata": {},
   "source": [
    "# Total per New Category"
   ]
  },
  {
   "cell_type": "code",
   "execution_count": 14,
   "metadata": {
    "ExecuteTime": {
     "end_time": "2020-08-17T13:01:40.438197Z",
     "start_time": "2020-08-17T13:01:40.393196Z"
    }
   },
   "outputs": [
    {
     "data": {
      "text/html": [
       "<div>\n",
       "<style scoped>\n",
       "    .dataframe tbody tr th:only-of-type {\n",
       "        vertical-align: middle;\n",
       "    }\n",
       "\n",
       "    .dataframe tbody tr th {\n",
       "        vertical-align: top;\n",
       "    }\n",
       "\n",
       "    .dataframe thead th {\n",
       "        text-align: right;\n",
       "    }\n",
       "</style>\n",
       "<table border=\"1\" class=\"dataframe\">\n",
       "  <thead>\n",
       "    <tr style=\"text-align: right;\">\n",
       "      <th></th>\n",
       "      <th>YEAR</th>\n",
       "      <th>MONTH</th>\n",
       "      <th>CAT_NEW</th>\n",
       "      <th>CAT_NEW_TOT</th>\n",
       "    </tr>\n",
       "  </thead>\n",
       "  <tbody>\n",
       "    <tr>\n",
       "      <th>69</th>\n",
       "      <td>2020</td>\n",
       "      <td>7</td>\n",
       "      <td>Desire</td>\n",
       "      <td>4598.86</td>\n",
       "    </tr>\n",
       "    <tr>\n",
       "      <th>70</th>\n",
       "      <td>2020</td>\n",
       "      <td>7</td>\n",
       "      <td>Investment</td>\n",
       "      <td>200.00</td>\n",
       "    </tr>\n",
       "    <tr>\n",
       "      <th>71</th>\n",
       "      <td>2020</td>\n",
       "      <td>7</td>\n",
       "      <td>Need</td>\n",
       "      <td>9364.70</td>\n",
       "    </tr>\n",
       "    <tr>\n",
       "      <th>66</th>\n",
       "      <td>2020</td>\n",
       "      <td>6</td>\n",
       "      <td>Desire</td>\n",
       "      <td>1768.45</td>\n",
       "    </tr>\n",
       "    <tr>\n",
       "      <th>67</th>\n",
       "      <td>2020</td>\n",
       "      <td>6</td>\n",
       "      <td>Investment</td>\n",
       "      <td>200.00</td>\n",
       "    </tr>\n",
       "  </tbody>\n",
       "</table>\n",
       "</div>"
      ],
      "text/plain": [
       "    YEAR  MONTH     CAT_NEW  CAT_NEW_TOT\n",
       "69  2020      7      Desire      4598.86\n",
       "70  2020      7  Investment       200.00\n",
       "71  2020      7        Need      9364.70\n",
       "66  2020      6      Desire      1768.45\n",
       "67  2020      6  Investment       200.00"
      ]
     },
     "execution_count": 14,
     "metadata": {},
     "output_type": "execute_result"
    }
   ],
   "source": [
    "df2 = data.groupby(['YEAR','MONTH','CAT_NEW'])['CAT_TOT'].sum().reset_index().sort_values(['YEAR','MONTH'], ascending=False)\n",
    "df2.columns=['YEAR','MONTH','CAT_NEW','CAT_NEW_TOT']\n",
    "data = pd.merge(data, df2, how='left', on=['MONTH','YEAR','CAT_NEW'])\n",
    "data['CAT_NEW_INCM_PCENT'] = (data['CAT_NEW_TOT']/data['INCOME'])*100\n",
    "data = data[['YEAR', 'MONTH', 'DATE', 'INCOME','CATEGORY','CATEGORY_COUNT',  \n",
    "              'CAT_TOT', 'CAT_INCM_PCENT','CAT_NEW', 'CAT_NEW_TOT','CAT_NEW_INCM_PCENT']]\n",
    "df2.head()"
   ]
  },
  {
   "cell_type": "markdown",
   "metadata": {},
   "source": [
    "# Create new dataset based on New Category"
   ]
  },
  {
   "cell_type": "code",
   "execution_count": 15,
   "metadata": {
    "ExecuteTime": {
     "end_time": "2020-08-17T13:01:40.468200Z",
     "start_time": "2020-08-17T13:01:40.441197Z"
    },
    "scrolled": true
   },
   "outputs": [
    {
     "data": {
      "text/html": [
       "<div>\n",
       "<style scoped>\n",
       "    .dataframe tbody tr th:only-of-type {\n",
       "        vertical-align: middle;\n",
       "    }\n",
       "\n",
       "    .dataframe tbody tr th {\n",
       "        vertical-align: top;\n",
       "    }\n",
       "\n",
       "    .dataframe thead th {\n",
       "        text-align: right;\n",
       "    }\n",
       "</style>\n",
       "<table border=\"1\" class=\"dataframe\">\n",
       "  <thead>\n",
       "    <tr style=\"text-align: right;\">\n",
       "      <th></th>\n",
       "      <th>YEAR</th>\n",
       "      <th>MONTH</th>\n",
       "      <th>DATE</th>\n",
       "      <th>INCOME</th>\n",
       "      <th>CATEGORY</th>\n",
       "      <th>CATEGORY_COUNT</th>\n",
       "      <th>CAT_TOT</th>\n",
       "      <th>CAT_INCM_PCENT</th>\n",
       "      <th>CAT_NEW</th>\n",
       "      <th>CAT_NEW_TOT</th>\n",
       "      <th>CAT_NEW_INCM_PCENT</th>\n",
       "    </tr>\n",
       "  </thead>\n",
       "  <tbody>\n",
       "    <tr>\n",
       "      <th>0</th>\n",
       "      <td>2020</td>\n",
       "      <td>7</td>\n",
       "      <td>2020-07-15</td>\n",
       "      <td>13218.79</td>\n",
       "      <td>Utilities</td>\n",
       "      <td>2</td>\n",
       "      <td>386.87</td>\n",
       "      <td>2.926667</td>\n",
       "      <td>Need</td>\n",
       "      <td>9364.70</td>\n",
       "      <td>70.843852</td>\n",
       "    </tr>\n",
       "    <tr>\n",
       "      <th>1</th>\n",
       "      <td>2020</td>\n",
       "      <td>7</td>\n",
       "      <td>2020-07-12</td>\n",
       "      <td>13218.79</td>\n",
       "      <td>Miscellaneous</td>\n",
       "      <td>3</td>\n",
       "      <td>95.96</td>\n",
       "      <td>0.725936</td>\n",
       "      <td>Need</td>\n",
       "      <td>9364.70</td>\n",
       "      <td>70.843852</td>\n",
       "    </tr>\n",
       "    <tr>\n",
       "      <th>2</th>\n",
       "      <td>2020</td>\n",
       "      <td>7</td>\n",
       "      <td>2020-07-06</td>\n",
       "      <td>13218.79</td>\n",
       "      <td>Loan Pay</td>\n",
       "      <td>9</td>\n",
       "      <td>7480.00</td>\n",
       "      <td>56.586117</td>\n",
       "      <td>Need</td>\n",
       "      <td>9364.70</td>\n",
       "      <td>70.843852</td>\n",
       "    </tr>\n",
       "    <tr>\n",
       "      <th>3</th>\n",
       "      <td>2020</td>\n",
       "      <td>7</td>\n",
       "      <td>2020-07-01</td>\n",
       "      <td>13218.79</td>\n",
       "      <td>Insurance</td>\n",
       "      <td>3</td>\n",
       "      <td>404.95</td>\n",
       "      <td>3.063442</td>\n",
       "      <td>Need</td>\n",
       "      <td>9364.70</td>\n",
       "      <td>70.843852</td>\n",
       "    </tr>\n",
       "    <tr>\n",
       "      <th>4</th>\n",
       "      <td>2020</td>\n",
       "      <td>7</td>\n",
       "      <td>2020-07-01</td>\n",
       "      <td>13218.79</td>\n",
       "      <td>Grocery &amp; supermarkets</td>\n",
       "      <td>42</td>\n",
       "      <td>899.42</td>\n",
       "      <td>6.804102</td>\n",
       "      <td>Need</td>\n",
       "      <td>9364.70</td>\n",
       "      <td>70.843852</td>\n",
       "    </tr>\n",
       "    <tr>\n",
       "      <th>5</th>\n",
       "      <td>2020</td>\n",
       "      <td>7</td>\n",
       "      <td>2020-07-31</td>\n",
       "      <td>13218.79</td>\n",
       "      <td>Chemists</td>\n",
       "      <td>1</td>\n",
       "      <td>85.00</td>\n",
       "      <td>0.643024</td>\n",
       "      <td>Need</td>\n",
       "      <td>9364.70</td>\n",
       "      <td>70.843852</td>\n",
       "    </tr>\n",
       "    <tr>\n",
       "      <th>6</th>\n",
       "      <td>2020</td>\n",
       "      <td>7</td>\n",
       "      <td>2020-07-01</td>\n",
       "      <td>13218.79</td>\n",
       "      <td>Auto &amp; transport</td>\n",
       "      <td>5</td>\n",
       "      <td>12.50</td>\n",
       "      <td>0.094562</td>\n",
       "      <td>Need</td>\n",
       "      <td>9364.70</td>\n",
       "      <td>70.843852</td>\n",
       "    </tr>\n",
       "    <tr>\n",
       "      <th>7</th>\n",
       "      <td>2020</td>\n",
       "      <td>7</td>\n",
       "      <td>2020-07-16</td>\n",
       "      <td>13218.79</td>\n",
       "      <td>Investments</td>\n",
       "      <td>1</td>\n",
       "      <td>200.00</td>\n",
       "      <td>1.512998</td>\n",
       "      <td>Investment</td>\n",
       "      <td>200.00</td>\n",
       "      <td>1.512998</td>\n",
       "    </tr>\n",
       "    <tr>\n",
       "      <th>8</th>\n",
       "      <td>2020</td>\n",
       "      <td>7</td>\n",
       "      <td>2020-07-15</td>\n",
       "      <td>13218.79</td>\n",
       "      <td>Subscription</td>\n",
       "      <td>2</td>\n",
       "      <td>21.48</td>\n",
       "      <td>0.162496</td>\n",
       "      <td>Desire</td>\n",
       "      <td>4598.86</td>\n",
       "      <td>34.790325</td>\n",
       "    </tr>\n",
       "    <tr>\n",
       "      <th>9</th>\n",
       "      <td>2020</td>\n",
       "      <td>7</td>\n",
       "      <td>2020-07-08</td>\n",
       "      <td>13218.79</td>\n",
       "      <td>Retail Shopping</td>\n",
       "      <td>4</td>\n",
       "      <td>55.13</td>\n",
       "      <td>0.417058</td>\n",
       "      <td>Desire</td>\n",
       "      <td>4598.86</td>\n",
       "      <td>34.790325</td>\n",
       "    </tr>\n",
       "  </tbody>\n",
       "</table>\n",
       "</div>"
      ],
      "text/plain": [
       "   YEAR  MONTH       DATE    INCOME                CATEGORY  CATEGORY_COUNT  \\\n",
       "0  2020      7 2020-07-15  13218.79               Utilities               2   \n",
       "1  2020      7 2020-07-12  13218.79           Miscellaneous               3   \n",
       "2  2020      7 2020-07-06  13218.79                Loan Pay               9   \n",
       "3  2020      7 2020-07-01  13218.79               Insurance               3   \n",
       "4  2020      7 2020-07-01  13218.79  Grocery & supermarkets              42   \n",
       "5  2020      7 2020-07-31  13218.79                Chemists               1   \n",
       "6  2020      7 2020-07-01  13218.79        Auto & transport               5   \n",
       "7  2020      7 2020-07-16  13218.79             Investments               1   \n",
       "8  2020      7 2020-07-15  13218.79            Subscription               2   \n",
       "9  2020      7 2020-07-08  13218.79         Retail Shopping               4   \n",
       "\n",
       "   CAT_TOT  CAT_INCM_PCENT     CAT_NEW  CAT_NEW_TOT  CAT_NEW_INCM_PCENT  \n",
       "0   386.87        2.926667        Need      9364.70           70.843852  \n",
       "1    95.96        0.725936        Need      9364.70           70.843852  \n",
       "2  7480.00       56.586117        Need      9364.70           70.843852  \n",
       "3   404.95        3.063442        Need      9364.70           70.843852  \n",
       "4   899.42        6.804102        Need      9364.70           70.843852  \n",
       "5    85.00        0.643024        Need      9364.70           70.843852  \n",
       "6    12.50        0.094562        Need      9364.70           70.843852  \n",
       "7   200.00        1.512998  Investment       200.00            1.512998  \n",
       "8    21.48        0.162496      Desire      4598.86           34.790325  \n",
       "9    55.13        0.417058      Desire      4598.86           34.790325  "
      ]
     },
     "execution_count": 15,
     "metadata": {},
     "output_type": "execute_result"
    }
   ],
   "source": [
    "data2 = data.copy()\n",
    "data2.head(10)"
   ]
  },
  {
   "cell_type": "markdown",
   "metadata": {},
   "source": [
    "# % New Category Spent of Income:"
   ]
  },
  {
   "cell_type": "code",
   "execution_count": 16,
   "metadata": {
    "ExecuteTime": {
     "end_time": "2020-08-17T13:01:40.514196Z",
     "start_time": "2020-08-17T13:01:40.471212Z"
    }
   },
   "outputs": [
    {
     "data": {
      "text/html": [
       "<div>\n",
       "<style scoped>\n",
       "    .dataframe tbody tr th:only-of-type {\n",
       "        vertical-align: middle;\n",
       "    }\n",
       "\n",
       "    .dataframe tbody tr th {\n",
       "        vertical-align: top;\n",
       "    }\n",
       "\n",
       "    .dataframe thead th {\n",
       "        text-align: right;\n",
       "    }\n",
       "</style>\n",
       "<table border=\"1\" class=\"dataframe\">\n",
       "  <thead>\n",
       "    <tr style=\"text-align: right;\">\n",
       "      <th></th>\n",
       "      <th>YEAR</th>\n",
       "      <th>MONTH</th>\n",
       "      <th>DATE</th>\n",
       "      <th>INCOME</th>\n",
       "      <th>CAT_NEW</th>\n",
       "      <th>CAT_NEW_TOT</th>\n",
       "      <th>CAT_NEW_INCM_PCENT</th>\n",
       "    </tr>\n",
       "  </thead>\n",
       "  <tbody>\n",
       "    <tr>\n",
       "      <th>0</th>\n",
       "      <td>2020</td>\n",
       "      <td>7</td>\n",
       "      <td>2020-07-01</td>\n",
       "      <td>13218.79</td>\n",
       "      <td>Need</td>\n",
       "      <td>9364.70</td>\n",
       "      <td>70.843852</td>\n",
       "    </tr>\n",
       "    <tr>\n",
       "      <th>1</th>\n",
       "      <td>2020</td>\n",
       "      <td>7</td>\n",
       "      <td>2020-07-16</td>\n",
       "      <td>13218.79</td>\n",
       "      <td>Investment</td>\n",
       "      <td>200.00</td>\n",
       "      <td>1.512998</td>\n",
       "    </tr>\n",
       "    <tr>\n",
       "      <th>2</th>\n",
       "      <td>2020</td>\n",
       "      <td>7</td>\n",
       "      <td>2020-07-02</td>\n",
       "      <td>13218.79</td>\n",
       "      <td>Desire</td>\n",
       "      <td>4598.86</td>\n",
       "      <td>34.790325</td>\n",
       "    </tr>\n",
       "    <tr>\n",
       "      <th>3</th>\n",
       "      <td>2020</td>\n",
       "      <td>6</td>\n",
       "      <td>2020-06-08</td>\n",
       "      <td>8068.83</td>\n",
       "      <td>Need</td>\n",
       "      <td>7149.73</td>\n",
       "      <td>88.609253</td>\n",
       "    </tr>\n",
       "    <tr>\n",
       "      <th>4</th>\n",
       "      <td>2020</td>\n",
       "      <td>6</td>\n",
       "      <td>2020-06-17</td>\n",
       "      <td>8068.83</td>\n",
       "      <td>Investment</td>\n",
       "      <td>200.00</td>\n",
       "      <td>2.478674</td>\n",
       "    </tr>\n",
       "  </tbody>\n",
       "</table>\n",
       "</div>"
      ],
      "text/plain": [
       "   YEAR  MONTH       DATE    INCOME     CAT_NEW  CAT_NEW_TOT  \\\n",
       "0  2020      7 2020-07-01  13218.79        Need      9364.70   \n",
       "1  2020      7 2020-07-16  13218.79  Investment       200.00   \n",
       "2  2020      7 2020-07-02  13218.79      Desire      4598.86   \n",
       "3  2020      6 2020-06-08   8068.83        Need      7149.73   \n",
       "4  2020      6 2020-06-17   8068.83  Investment       200.00   \n",
       "\n",
       "   CAT_NEW_INCM_PCENT  \n",
       "0           70.843852  \n",
       "1            1.512998  \n",
       "2           34.790325  \n",
       "3           88.609253  \n",
       "4            2.478674  "
      ]
     },
     "execution_count": 16,
     "metadata": {},
     "output_type": "execute_result"
    }
   ],
   "source": [
    "data2 = data2.sort_values([\"YEAR\", \"MONTH\", \"CAT_NEW\"], ascending = False)\n",
    "data2.drop_duplicates(subset=['YEAR','MONTH','CAT_NEW'],inplace=True, keep=\"last\")\n",
    "data2.reset_index(drop =True,inplace=True)\n",
    "data2 = data2[['YEAR', 'MONTH', 'DATE', 'INCOME', 'CAT_NEW', 'CAT_NEW_TOT', 'CAT_NEW_INCM_PCENT']]\n",
    "data2.head()"
   ]
  },
  {
   "cell_type": "markdown",
   "metadata": {},
   "source": [
    "# Add Benchmark:"
   ]
  },
  {
   "cell_type": "code",
   "execution_count": 17,
   "metadata": {
    "ExecuteTime": {
     "end_time": "2020-08-17T13:01:40.639194Z",
     "start_time": "2020-08-17T13:01:40.517197Z"
    }
   },
   "outputs": [
    {
     "data": {
      "text/html": [
       "<div>\n",
       "<style scoped>\n",
       "    .dataframe tbody tr th:only-of-type {\n",
       "        vertical-align: middle;\n",
       "    }\n",
       "\n",
       "    .dataframe tbody tr th {\n",
       "        vertical-align: top;\n",
       "    }\n",
       "\n",
       "    .dataframe thead th {\n",
       "        text-align: right;\n",
       "    }\n",
       "</style>\n",
       "<table border=\"1\" class=\"dataframe\">\n",
       "  <thead>\n",
       "    <tr style=\"text-align: right;\">\n",
       "      <th></th>\n",
       "      <th>YEAR</th>\n",
       "      <th>MONTH</th>\n",
       "      <th>DATE</th>\n",
       "      <th>INCOME</th>\n",
       "      <th>CATEGORY</th>\n",
       "      <th>CATEGORY_COUNT</th>\n",
       "      <th>CAT_TOT</th>\n",
       "      <th>CAT_INCM_PCENT</th>\n",
       "      <th>CAT_NEW</th>\n",
       "      <th>CAT_NEW_TOT</th>\n",
       "      <th>CAT_NEW_INCM_PCENT</th>\n",
       "      <th>CAT_OLD_BENCHMARK</th>\n",
       "    </tr>\n",
       "  </thead>\n",
       "  <tbody>\n",
       "    <tr>\n",
       "      <th>0</th>\n",
       "      <td>2020</td>\n",
       "      <td>7</td>\n",
       "      <td>2020-07-15</td>\n",
       "      <td>13218.79</td>\n",
       "      <td>Utilities</td>\n",
       "      <td>2</td>\n",
       "      <td>386.87</td>\n",
       "      <td>2.926667</td>\n",
       "      <td>Need</td>\n",
       "      <td>9364.70</td>\n",
       "      <td>70.843852</td>\n",
       "      <td>5</td>\n",
       "    </tr>\n",
       "    <tr>\n",
       "      <th>1</th>\n",
       "      <td>2020</td>\n",
       "      <td>7</td>\n",
       "      <td>2020-07-12</td>\n",
       "      <td>13218.79</td>\n",
       "      <td>Miscellaneous</td>\n",
       "      <td>3</td>\n",
       "      <td>95.96</td>\n",
       "      <td>0.725936</td>\n",
       "      <td>Need</td>\n",
       "      <td>9364.70</td>\n",
       "      <td>70.843852</td>\n",
       "      <td>1</td>\n",
       "    </tr>\n",
       "    <tr>\n",
       "      <th>2</th>\n",
       "      <td>2020</td>\n",
       "      <td>7</td>\n",
       "      <td>2020-07-06</td>\n",
       "      <td>13218.79</td>\n",
       "      <td>Loan Pay</td>\n",
       "      <td>9</td>\n",
       "      <td>7480.00</td>\n",
       "      <td>56.586117</td>\n",
       "      <td>Need</td>\n",
       "      <td>9364.70</td>\n",
       "      <td>70.843852</td>\n",
       "      <td>33</td>\n",
       "    </tr>\n",
       "    <tr>\n",
       "      <th>3</th>\n",
       "      <td>2020</td>\n",
       "      <td>7</td>\n",
       "      <td>2020-07-01</td>\n",
       "      <td>13218.79</td>\n",
       "      <td>Insurance</td>\n",
       "      <td>3</td>\n",
       "      <td>404.95</td>\n",
       "      <td>3.063442</td>\n",
       "      <td>Need</td>\n",
       "      <td>9364.70</td>\n",
       "      <td>70.843852</td>\n",
       "      <td>1</td>\n",
       "    </tr>\n",
       "    <tr>\n",
       "      <th>4</th>\n",
       "      <td>2020</td>\n",
       "      <td>7</td>\n",
       "      <td>2020-07-01</td>\n",
       "      <td>13218.79</td>\n",
       "      <td>Grocery &amp; supermarkets</td>\n",
       "      <td>42</td>\n",
       "      <td>899.42</td>\n",
       "      <td>6.804102</td>\n",
       "      <td>Need</td>\n",
       "      <td>9364.70</td>\n",
       "      <td>70.843852</td>\n",
       "      <td>8</td>\n",
       "    </tr>\n",
       "    <tr>\n",
       "      <th>5</th>\n",
       "      <td>2020</td>\n",
       "      <td>7</td>\n",
       "      <td>2020-07-31</td>\n",
       "      <td>13218.79</td>\n",
       "      <td>Chemists</td>\n",
       "      <td>1</td>\n",
       "      <td>85.00</td>\n",
       "      <td>0.643024</td>\n",
       "      <td>Need</td>\n",
       "      <td>9364.70</td>\n",
       "      <td>70.843852</td>\n",
       "      <td>1</td>\n",
       "    </tr>\n",
       "    <tr>\n",
       "      <th>6</th>\n",
       "      <td>2020</td>\n",
       "      <td>7</td>\n",
       "      <td>2020-07-01</td>\n",
       "      <td>13218.79</td>\n",
       "      <td>Auto &amp; transport</td>\n",
       "      <td>5</td>\n",
       "      <td>12.50</td>\n",
       "      <td>0.094562</td>\n",
       "      <td>Need</td>\n",
       "      <td>9364.70</td>\n",
       "      <td>70.843852</td>\n",
       "      <td>1</td>\n",
       "    </tr>\n",
       "    <tr>\n",
       "      <th>7</th>\n",
       "      <td>2020</td>\n",
       "      <td>7</td>\n",
       "      <td>2020-07-16</td>\n",
       "      <td>13218.79</td>\n",
       "      <td>Investments</td>\n",
       "      <td>1</td>\n",
       "      <td>200.00</td>\n",
       "      <td>1.512998</td>\n",
       "      <td>Investment</td>\n",
       "      <td>200.00</td>\n",
       "      <td>1.512998</td>\n",
       "      <td>20</td>\n",
       "    </tr>\n",
       "    <tr>\n",
       "      <th>8</th>\n",
       "      <td>2020</td>\n",
       "      <td>7</td>\n",
       "      <td>2020-07-15</td>\n",
       "      <td>13218.79</td>\n",
       "      <td>Subscription</td>\n",
       "      <td>2</td>\n",
       "      <td>21.48</td>\n",
       "      <td>0.162496</td>\n",
       "      <td>Desire</td>\n",
       "      <td>4598.86</td>\n",
       "      <td>34.790325</td>\n",
       "      <td>1</td>\n",
       "    </tr>\n",
       "    <tr>\n",
       "      <th>9</th>\n",
       "      <td>2020</td>\n",
       "      <td>7</td>\n",
       "      <td>2020-07-08</td>\n",
       "      <td>13218.79</td>\n",
       "      <td>Retail Shopping</td>\n",
       "      <td>4</td>\n",
       "      <td>55.13</td>\n",
       "      <td>0.417058</td>\n",
       "      <td>Desire</td>\n",
       "      <td>4598.86</td>\n",
       "      <td>34.790325</td>\n",
       "      <td>4</td>\n",
       "    </tr>\n",
       "  </tbody>\n",
       "</table>\n",
       "</div>"
      ],
      "text/plain": [
       "   YEAR  MONTH       DATE    INCOME                CATEGORY  CATEGORY_COUNT  \\\n",
       "0  2020      7 2020-07-15  13218.79               Utilities               2   \n",
       "1  2020      7 2020-07-12  13218.79           Miscellaneous               3   \n",
       "2  2020      7 2020-07-06  13218.79                Loan Pay               9   \n",
       "3  2020      7 2020-07-01  13218.79               Insurance               3   \n",
       "4  2020      7 2020-07-01  13218.79  Grocery & supermarkets              42   \n",
       "5  2020      7 2020-07-31  13218.79                Chemists               1   \n",
       "6  2020      7 2020-07-01  13218.79        Auto & transport               5   \n",
       "7  2020      7 2020-07-16  13218.79             Investments               1   \n",
       "8  2020      7 2020-07-15  13218.79            Subscription               2   \n",
       "9  2020      7 2020-07-08  13218.79         Retail Shopping               4   \n",
       "\n",
       "   CAT_TOT  CAT_INCM_PCENT     CAT_NEW  CAT_NEW_TOT  CAT_NEW_INCM_PCENT  \\\n",
       "0   386.87        2.926667        Need      9364.70           70.843852   \n",
       "1    95.96        0.725936        Need      9364.70           70.843852   \n",
       "2  7480.00       56.586117        Need      9364.70           70.843852   \n",
       "3   404.95        3.063442        Need      9364.70           70.843852   \n",
       "4   899.42        6.804102        Need      9364.70           70.843852   \n",
       "5    85.00        0.643024        Need      9364.70           70.843852   \n",
       "6    12.50        0.094562        Need      9364.70           70.843852   \n",
       "7   200.00        1.512998  Investment       200.00            1.512998   \n",
       "8    21.48        0.162496      Desire      4598.86           34.790325   \n",
       "9    55.13        0.417058      Desire      4598.86           34.790325   \n",
       "\n",
       "   CAT_OLD_BENCHMARK  \n",
       "0                  5  \n",
       "1                  1  \n",
       "2                 33  \n",
       "3                  1  \n",
       "4                  8  \n",
       "5                  1  \n",
       "6                  1  \n",
       "7                 20  \n",
       "8                  1  \n",
       "9                  4  "
      ]
     },
     "execution_count": 17,
     "metadata": {},
     "output_type": "execute_result"
    }
   ],
   "source": [
    "data['CAT_OLD_BENCHMARK'] = data.apply (lambda row: label_bmoldcat(row), axis=1)\n",
    "data = data.sort_values([\"YEAR\",\"MONTH\"], ascending = False)\n",
    "data.head(10)"
   ]
  },
  {
   "cell_type": "code",
   "execution_count": 18,
   "metadata": {
    "ExecuteTime": {
     "end_time": "2020-08-17T13:01:40.686240Z",
     "start_time": "2020-08-17T13:01:40.642199Z"
    }
   },
   "outputs": [
    {
     "data": {
      "text/html": [
       "<div>\n",
       "<style scoped>\n",
       "    .dataframe tbody tr th:only-of-type {\n",
       "        vertical-align: middle;\n",
       "    }\n",
       "\n",
       "    .dataframe tbody tr th {\n",
       "        vertical-align: top;\n",
       "    }\n",
       "\n",
       "    .dataframe thead th {\n",
       "        text-align: right;\n",
       "    }\n",
       "</style>\n",
       "<table border=\"1\" class=\"dataframe\">\n",
       "  <thead>\n",
       "    <tr style=\"text-align: right;\">\n",
       "      <th></th>\n",
       "      <th>YEAR</th>\n",
       "      <th>MONTH</th>\n",
       "      <th>DATE</th>\n",
       "      <th>INCOME</th>\n",
       "      <th>CAT_NEW</th>\n",
       "      <th>CAT_NEW_TOT</th>\n",
       "      <th>CAT_NEW_INCM_PCENT</th>\n",
       "      <th>CAT_NEW_BENCHMARK</th>\n",
       "    </tr>\n",
       "  </thead>\n",
       "  <tbody>\n",
       "    <tr>\n",
       "      <th>0</th>\n",
       "      <td>2020</td>\n",
       "      <td>7</td>\n",
       "      <td>2020-07-01</td>\n",
       "      <td>13218.79</td>\n",
       "      <td>Need</td>\n",
       "      <td>9364.70</td>\n",
       "      <td>70.843852</td>\n",
       "      <td>50</td>\n",
       "    </tr>\n",
       "    <tr>\n",
       "      <th>1</th>\n",
       "      <td>2020</td>\n",
       "      <td>7</td>\n",
       "      <td>2020-07-16</td>\n",
       "      <td>13218.79</td>\n",
       "      <td>Investment</td>\n",
       "      <td>200.00</td>\n",
       "      <td>1.512998</td>\n",
       "      <td>20</td>\n",
       "    </tr>\n",
       "    <tr>\n",
       "      <th>2</th>\n",
       "      <td>2020</td>\n",
       "      <td>7</td>\n",
       "      <td>2020-07-02</td>\n",
       "      <td>13218.79</td>\n",
       "      <td>Desire</td>\n",
       "      <td>4598.86</td>\n",
       "      <td>34.790325</td>\n",
       "      <td>30</td>\n",
       "    </tr>\n",
       "    <tr>\n",
       "      <th>3</th>\n",
       "      <td>2020</td>\n",
       "      <td>6</td>\n",
       "      <td>2020-06-08</td>\n",
       "      <td>8068.83</td>\n",
       "      <td>Need</td>\n",
       "      <td>7149.73</td>\n",
       "      <td>88.609253</td>\n",
       "      <td>50</td>\n",
       "    </tr>\n",
       "    <tr>\n",
       "      <th>4</th>\n",
       "      <td>2020</td>\n",
       "      <td>6</td>\n",
       "      <td>2020-06-17</td>\n",
       "      <td>8068.83</td>\n",
       "      <td>Investment</td>\n",
       "      <td>200.00</td>\n",
       "      <td>2.478674</td>\n",
       "      <td>20</td>\n",
       "    </tr>\n",
       "    <tr>\n",
       "      <th>5</th>\n",
       "      <td>2020</td>\n",
       "      <td>6</td>\n",
       "      <td>2020-06-30</td>\n",
       "      <td>8068.83</td>\n",
       "      <td>Desire</td>\n",
       "      <td>1768.45</td>\n",
       "      <td>21.917056</td>\n",
       "      <td>30</td>\n",
       "    </tr>\n",
       "    <tr>\n",
       "      <th>6</th>\n",
       "      <td>2020</td>\n",
       "      <td>5</td>\n",
       "      <td>2020-05-12</td>\n",
       "      <td>10760.91</td>\n",
       "      <td>Need</td>\n",
       "      <td>7574.92</td>\n",
       "      <td>70.392931</td>\n",
       "      <td>50</td>\n",
       "    </tr>\n",
       "    <tr>\n",
       "      <th>7</th>\n",
       "      <td>2020</td>\n",
       "      <td>5</td>\n",
       "      <td>2020-05-16</td>\n",
       "      <td>10760.91</td>\n",
       "      <td>Investment</td>\n",
       "      <td>200.00</td>\n",
       "      <td>1.858579</td>\n",
       "      <td>20</td>\n",
       "    </tr>\n",
       "    <tr>\n",
       "      <th>8</th>\n",
       "      <td>2020</td>\n",
       "      <td>5</td>\n",
       "      <td>2020-05-30</td>\n",
       "      <td>10760.91</td>\n",
       "      <td>Desire</td>\n",
       "      <td>6280.45</td>\n",
       "      <td>58.363558</td>\n",
       "      <td>30</td>\n",
       "    </tr>\n",
       "    <tr>\n",
       "      <th>9</th>\n",
       "      <td>2020</td>\n",
       "      <td>4</td>\n",
       "      <td>2020-04-08</td>\n",
       "      <td>24528.98</td>\n",
       "      <td>Need</td>\n",
       "      <td>17859.83</td>\n",
       "      <td>72.811140</td>\n",
       "      <td>50</td>\n",
       "    </tr>\n",
       "  </tbody>\n",
       "</table>\n",
       "</div>"
      ],
      "text/plain": [
       "   YEAR  MONTH       DATE    INCOME     CAT_NEW  CAT_NEW_TOT  \\\n",
       "0  2020      7 2020-07-01  13218.79        Need      9364.70   \n",
       "1  2020      7 2020-07-16  13218.79  Investment       200.00   \n",
       "2  2020      7 2020-07-02  13218.79      Desire      4598.86   \n",
       "3  2020      6 2020-06-08   8068.83        Need      7149.73   \n",
       "4  2020      6 2020-06-17   8068.83  Investment       200.00   \n",
       "5  2020      6 2020-06-30   8068.83      Desire      1768.45   \n",
       "6  2020      5 2020-05-12  10760.91        Need      7574.92   \n",
       "7  2020      5 2020-05-16  10760.91  Investment       200.00   \n",
       "8  2020      5 2020-05-30  10760.91      Desire      6280.45   \n",
       "9  2020      4 2020-04-08  24528.98        Need     17859.83   \n",
       "\n",
       "   CAT_NEW_INCM_PCENT  CAT_NEW_BENCHMARK  \n",
       "0           70.843852                 50  \n",
       "1            1.512998                 20  \n",
       "2           34.790325                 30  \n",
       "3           88.609253                 50  \n",
       "4            2.478674                 20  \n",
       "5           21.917056                 30  \n",
       "6           70.392931                 50  \n",
       "7            1.858579                 20  \n",
       "8           58.363558                 30  \n",
       "9           72.811140                 50  "
      ]
     },
     "execution_count": 18,
     "metadata": {},
     "output_type": "execute_result"
    }
   ],
   "source": [
    "data2['CAT_NEW_BENCHMARK'] = data2.apply (lambda row: label_bm(row), axis=1)\n",
    "data2 = data2.sort_values([\"YEAR\",\"MONTH\"], ascending = False)\n",
    "data2.head(10)"
   ]
  },
  {
   "cell_type": "markdown",
   "metadata": {},
   "source": [
    "# Download the files:"
   ]
  },
  {
   "cell_type": "code",
   "execution_count": 19,
   "metadata": {
    "ExecuteTime": {
     "end_time": "2020-08-17T13:01:41.128218Z",
     "start_time": "2020-08-17T13:01:40.691199Z"
    }
   },
   "outputs": [],
   "source": [
    "data.to_csv('OldCat.csv')\n",
    "data2.to_csv('NewCat.csv')"
   ]
  },
  {
   "cell_type": "markdown",
   "metadata": {},
   "source": [
    "# Expense Prediction:"
   ]
  },
  {
   "cell_type": "code",
   "execution_count": 141,
   "metadata": {
    "ExecuteTime": {
     "end_time": "2020-08-17T13:53:32.997705Z",
     "start_time": "2020-08-17T13:53:32.984706Z"
    }
   },
   "outputs": [],
   "source": [
    "# data_exp = pd.read_csv('ExpensePrediction.csv')\n",
    "data_exp = data2.copy()\n",
    "\n",
    "data_exp['DATE'] = pd.to_datetime(data_exp['DATE']).apply(lambda x: x.date())\n",
    "data_exp['DATE'] = pd.to_datetime(data_exp.DATE,format='%Y-%m-%d')\n",
    "data_exp['DATE'] = data_exp['DATE'].apply(lambda x:x.replace(day=1))"
   ]
  },
  {
   "cell_type": "code",
   "execution_count": 142,
   "metadata": {
    "ExecuteTime": {
     "end_time": "2020-08-17T13:53:35.026294Z",
     "start_time": "2020-08-17T13:53:34.996298Z"
    }
   },
   "outputs": [
    {
     "data": {
      "text/html": [
       "<div>\n",
       "<style scoped>\n",
       "    .dataframe tbody tr th:only-of-type {\n",
       "        vertical-align: middle;\n",
       "    }\n",
       "\n",
       "    .dataframe tbody tr th {\n",
       "        vertical-align: top;\n",
       "    }\n",
       "\n",
       "    .dataframe thead th {\n",
       "        text-align: right;\n",
       "    }\n",
       "</style>\n",
       "<table border=\"1\" class=\"dataframe\">\n",
       "  <thead>\n",
       "    <tr style=\"text-align: right;\">\n",
       "      <th></th>\n",
       "      <th>YEAR</th>\n",
       "      <th>MONTH</th>\n",
       "      <th>DATE</th>\n",
       "      <th>INCOME</th>\n",
       "      <th>CAT_NEW</th>\n",
       "      <th>CAT_NEW_TOT</th>\n",
       "      <th>CAT_NEW_INCM_PCENT</th>\n",
       "      <th>CAT_NEW_BENCHMARK</th>\n",
       "    </tr>\n",
       "  </thead>\n",
       "  <tbody>\n",
       "    <tr>\n",
       "      <th>0</th>\n",
       "      <td>2020</td>\n",
       "      <td>7</td>\n",
       "      <td>2020-07-01</td>\n",
       "      <td>13218.79</td>\n",
       "      <td>Need</td>\n",
       "      <td>9364.70</td>\n",
       "      <td>70.843852</td>\n",
       "      <td>50</td>\n",
       "    </tr>\n",
       "    <tr>\n",
       "      <th>1</th>\n",
       "      <td>2020</td>\n",
       "      <td>7</td>\n",
       "      <td>2020-07-01</td>\n",
       "      <td>13218.79</td>\n",
       "      <td>Investment</td>\n",
       "      <td>200.00</td>\n",
       "      <td>1.512998</td>\n",
       "      <td>20</td>\n",
       "    </tr>\n",
       "    <tr>\n",
       "      <th>2</th>\n",
       "      <td>2020</td>\n",
       "      <td>7</td>\n",
       "      <td>2020-07-01</td>\n",
       "      <td>13218.79</td>\n",
       "      <td>Desire</td>\n",
       "      <td>4598.86</td>\n",
       "      <td>34.790325</td>\n",
       "      <td>30</td>\n",
       "    </tr>\n",
       "    <tr>\n",
       "      <th>3</th>\n",
       "      <td>2020</td>\n",
       "      <td>6</td>\n",
       "      <td>2020-06-01</td>\n",
       "      <td>8068.83</td>\n",
       "      <td>Need</td>\n",
       "      <td>7149.73</td>\n",
       "      <td>88.609253</td>\n",
       "      <td>50</td>\n",
       "    </tr>\n",
       "    <tr>\n",
       "      <th>4</th>\n",
       "      <td>2020</td>\n",
       "      <td>6</td>\n",
       "      <td>2020-06-01</td>\n",
       "      <td>8068.83</td>\n",
       "      <td>Investment</td>\n",
       "      <td>200.00</td>\n",
       "      <td>2.478674</td>\n",
       "      <td>20</td>\n",
       "    </tr>\n",
       "    <tr>\n",
       "      <th>5</th>\n",
       "      <td>2020</td>\n",
       "      <td>6</td>\n",
       "      <td>2020-06-01</td>\n",
       "      <td>8068.83</td>\n",
       "      <td>Desire</td>\n",
       "      <td>1768.45</td>\n",
       "      <td>21.917056</td>\n",
       "      <td>30</td>\n",
       "    </tr>\n",
       "    <tr>\n",
       "      <th>6</th>\n",
       "      <td>2020</td>\n",
       "      <td>5</td>\n",
       "      <td>2020-05-01</td>\n",
       "      <td>10760.91</td>\n",
       "      <td>Need</td>\n",
       "      <td>7574.92</td>\n",
       "      <td>70.392931</td>\n",
       "      <td>50</td>\n",
       "    </tr>\n",
       "    <tr>\n",
       "      <th>7</th>\n",
       "      <td>2020</td>\n",
       "      <td>5</td>\n",
       "      <td>2020-05-01</td>\n",
       "      <td>10760.91</td>\n",
       "      <td>Investment</td>\n",
       "      <td>200.00</td>\n",
       "      <td>1.858579</td>\n",
       "      <td>20</td>\n",
       "    </tr>\n",
       "    <tr>\n",
       "      <th>8</th>\n",
       "      <td>2020</td>\n",
       "      <td>5</td>\n",
       "      <td>2020-05-01</td>\n",
       "      <td>10760.91</td>\n",
       "      <td>Desire</td>\n",
       "      <td>6280.45</td>\n",
       "      <td>58.363558</td>\n",
       "      <td>30</td>\n",
       "    </tr>\n",
       "    <tr>\n",
       "      <th>9</th>\n",
       "      <td>2020</td>\n",
       "      <td>4</td>\n",
       "      <td>2020-04-01</td>\n",
       "      <td>24528.98</td>\n",
       "      <td>Need</td>\n",
       "      <td>17859.83</td>\n",
       "      <td>72.811140</td>\n",
       "      <td>50</td>\n",
       "    </tr>\n",
       "  </tbody>\n",
       "</table>\n",
       "</div>"
      ],
      "text/plain": [
       "   YEAR  MONTH       DATE    INCOME     CAT_NEW  CAT_NEW_TOT  \\\n",
       "0  2020      7 2020-07-01  13218.79        Need      9364.70   \n",
       "1  2020      7 2020-07-01  13218.79  Investment       200.00   \n",
       "2  2020      7 2020-07-01  13218.79      Desire      4598.86   \n",
       "3  2020      6 2020-06-01   8068.83        Need      7149.73   \n",
       "4  2020      6 2020-06-01   8068.83  Investment       200.00   \n",
       "5  2020      6 2020-06-01   8068.83      Desire      1768.45   \n",
       "6  2020      5 2020-05-01  10760.91        Need      7574.92   \n",
       "7  2020      5 2020-05-01  10760.91  Investment       200.00   \n",
       "8  2020      5 2020-05-01  10760.91      Desire      6280.45   \n",
       "9  2020      4 2020-04-01  24528.98        Need     17859.83   \n",
       "\n",
       "   CAT_NEW_INCM_PCENT  CAT_NEW_BENCHMARK  \n",
       "0           70.843852                 50  \n",
       "1            1.512998                 20  \n",
       "2           34.790325                 30  \n",
       "3           88.609253                 50  \n",
       "4            2.478674                 20  \n",
       "5           21.917056                 30  \n",
       "6           70.392931                 50  \n",
       "7            1.858579                 20  \n",
       "8           58.363558                 30  \n",
       "9           72.811140                 50  "
      ]
     },
     "execution_count": 142,
     "metadata": {},
     "output_type": "execute_result"
    }
   ],
   "source": [
    "data_exp.head(10)"
   ]
  },
  {
   "cell_type": "code",
   "execution_count": 143,
   "metadata": {
    "ExecuteTime": {
     "end_time": "2020-08-17T13:53:37.098008Z",
     "start_time": "2020-08-17T13:53:37.070010Z"
    },
    "run_control": {
     "marked": false
    }
   },
   "outputs": [],
   "source": [
    "df2 = data_exp.groupby(['YEAR','MONTH'])['CAT_NEW_TOT'].sum().reset_index().sort_values(['YEAR','MONTH'], ascending=False)\n",
    "df2.columns=['YEAR','MONTH','EXPENSE']\n",
    "df2 = pd.merge(df2, data_exp, how='left', on=['YEAR','MONTH'])\n",
    "df2.drop_duplicates(subset=['YEAR','MONTH'],inplace=True, keep=\"last\")\n",
    "df2.drop(['YEAR','MONTH','CAT_NEW','CAT_NEW_TOT','CAT_NEW_INCM_PCENT','CAT_NEW_BENCHMARK'], axis=1, inplace=True)\n",
    "\n",
    "\n",
    "df_income = df2[['DATE', 'INCOME']]"
   ]
  },
  {
   "cell_type": "code",
   "execution_count": 144,
   "metadata": {
    "ExecuteTime": {
     "end_time": "2020-08-17T13:53:39.324105Z",
     "start_time": "2020-08-17T13:53:39.011595Z"
    }
   },
   "outputs": [
    {
     "data": {
      "text/plain": [
       "<matplotlib.axes._subplots.AxesSubplot at 0x1abe1e28408>"
      ]
     },
     "execution_count": 144,
     "metadata": {},
     "output_type": "execute_result"
    },
    {
     "data": {
      "image/png": "[encoded data removed]",
      "text/plain": [
       "<Figure size 1080x360 with 1 Axes>"
      ]
     },
     "metadata": {
      "needs_background": "light"
     },
     "output_type": "display_data"
    }
   ],
   "source": [
    "df_expense = df2[['DATE', 'EXPENSE']]\n",
    "df_expense.set_index('DATE', inplace=True)\n",
    "df_expense.plot(figsize=(15,5), title= 'Since January', fontsize=14)"
   ]
  },
  {
   "cell_type": "code",
   "execution_count": 145,
   "metadata": {
    "ExecuteTime": {
     "end_time": "2020-08-17T13:53:39.339748Z",
     "start_time": "2020-08-17T13:53:39.326107Z"
    }
   },
   "outputs": [],
   "source": [
    "train = df_expense.loc[(df_expense.index >= '2018-08-01') & (df_expense.index <= '2020-05-01')]\n",
    "test = df_expense.loc[(df_expense.index >= '2020-06-01')]"
   ]
  },
  {
   "cell_type": "code",
   "execution_count": 146,
   "metadata": {
    "ExecuteTime": {
     "end_time": "2020-08-17T13:53:39.355266Z",
     "start_time": "2020-08-17T13:53:39.342264Z"
    }
   },
   "outputs": [],
   "source": [
    "df1 = pd.DataFrame({\"DATE\":['2020-08-01', '2020-09-01', '2020-10-01'], \n",
    "                    \"EXPENSE\":[0, 0, 0]})"
   ]
  },
  {
   "cell_type": "code",
   "execution_count": 147,
   "metadata": {
    "ExecuteTime": {
     "end_time": "2020-08-17T13:53:42.735574Z",
     "start_time": "2020-08-17T13:53:42.722458Z"
    }
   },
   "outputs": [],
   "source": [
    "test.reset_index(inplace=True)"
   ]
  },
  {
   "cell_type": "code",
   "execution_count": 148,
   "metadata": {
    "ExecuteTime": {
     "end_time": "2020-08-17T13:53:42.751483Z",
     "start_time": "2020-08-17T13:53:42.738479Z"
    }
   },
   "outputs": [
    {
     "data": {
      "text/html": [
       "<div>\n",
       "<style scoped>\n",
       "    .dataframe tbody tr th:only-of-type {\n",
       "        vertical-align: middle;\n",
       "    }\n",
       "\n",
       "    .dataframe tbody tr th {\n",
       "        vertical-align: top;\n",
       "    }\n",
       "\n",
       "    .dataframe thead th {\n",
       "        text-align: right;\n",
       "    }\n",
       "</style>\n",
       "<table border=\"1\" class=\"dataframe\">\n",
       "  <thead>\n",
       "    <tr style=\"text-align: right;\">\n",
       "      <th></th>\n",
       "      <th>DATE</th>\n",
       "      <th>EXPENSE</th>\n",
       "    </tr>\n",
       "  </thead>\n",
       "  <tbody>\n",
       "    <tr>\n",
       "      <th>0</th>\n",
       "      <td>2020-08-01</td>\n",
       "      <td>0</td>\n",
       "    </tr>\n",
       "    <tr>\n",
       "      <th>1</th>\n",
       "      <td>2020-09-01</td>\n",
       "      <td>0</td>\n",
       "    </tr>\n",
       "    <tr>\n",
       "      <th>2</th>\n",
       "      <td>2020-10-01</td>\n",
       "      <td>0</td>\n",
       "    </tr>\n",
       "  </tbody>\n",
       "</table>\n",
       "</div>"
      ],
      "text/plain": [
       "         DATE  EXPENSE\n",
       "0  2020-08-01        0\n",
       "1  2020-09-01        0\n",
       "2  2020-10-01        0"
      ]
     },
     "execution_count": 148,
     "metadata": {},
     "output_type": "execute_result"
    }
   ],
   "source": [
    "df1"
   ]
  },
  {
   "cell_type": "code",
   "execution_count": 149,
   "metadata": {
    "ExecuteTime": {
     "end_time": "2020-08-17T13:53:44.045597Z",
     "start_time": "2020-08-17T13:53:44.031600Z"
    }
   },
   "outputs": [
    {
     "data": {
      "text/html": [
       "<div>\n",
       "<style scoped>\n",
       "    .dataframe tbody tr th:only-of-type {\n",
       "        vertical-align: middle;\n",
       "    }\n",
       "\n",
       "    .dataframe tbody tr th {\n",
       "        vertical-align: top;\n",
       "    }\n",
       "\n",
       "    .dataframe thead th {\n",
       "        text-align: right;\n",
       "    }\n",
       "</style>\n",
       "<table border=\"1\" class=\"dataframe\">\n",
       "  <thead>\n",
       "    <tr style=\"text-align: right;\">\n",
       "      <th></th>\n",
       "      <th>DATE</th>\n",
       "      <th>EXPENSE</th>\n",
       "    </tr>\n",
       "  </thead>\n",
       "  <tbody>\n",
       "    <tr>\n",
       "      <th>0</th>\n",
       "      <td>2020-07-01</td>\n",
       "      <td>14163.56</td>\n",
       "    </tr>\n",
       "    <tr>\n",
       "      <th>1</th>\n",
       "      <td>2020-06-01</td>\n",
       "      <td>9118.18</td>\n",
       "    </tr>\n",
       "  </tbody>\n",
       "</table>\n",
       "</div>"
      ],
      "text/plain": [
       "        DATE   EXPENSE\n",
       "0 2020-07-01  14163.56\n",
       "1 2020-06-01   9118.18"
      ]
     },
     "execution_count": 149,
     "metadata": {},
     "output_type": "execute_result"
    }
   ],
   "source": [
    "test"
   ]
  },
  {
   "cell_type": "code",
   "execution_count": 150,
   "metadata": {
    "ExecuteTime": {
     "end_time": "2020-08-17T13:53:44.568596Z",
     "start_time": "2020-08-17T13:53:44.554597Z"
    }
   },
   "outputs": [
    {
     "data": {
      "text/html": [
       "<div>\n",
       "<style scoped>\n",
       "    .dataframe tbody tr th:only-of-type {\n",
       "        vertical-align: middle;\n",
       "    }\n",
       "\n",
       "    .dataframe tbody tr th {\n",
       "        vertical-align: top;\n",
       "    }\n",
       "\n",
       "    .dataframe thead th {\n",
       "        text-align: right;\n",
       "    }\n",
       "</style>\n",
       "<table border=\"1\" class=\"dataframe\">\n",
       "  <thead>\n",
       "    <tr style=\"text-align: right;\">\n",
       "      <th></th>\n",
       "      <th>DATE</th>\n",
       "      <th>EXPENSE</th>\n",
       "    </tr>\n",
       "  </thead>\n",
       "  <tbody>\n",
       "    <tr>\n",
       "      <th>0</th>\n",
       "      <td>2020-07-01 00:00:00</td>\n",
       "      <td>14163.56</td>\n",
       "    </tr>\n",
       "    <tr>\n",
       "      <th>1</th>\n",
       "      <td>2020-06-01 00:00:00</td>\n",
       "      <td>9118.18</td>\n",
       "    </tr>\n",
       "    <tr>\n",
       "      <th>0</th>\n",
       "      <td>2020-08-01</td>\n",
       "      <td>0.00</td>\n",
       "    </tr>\n",
       "    <tr>\n",
       "      <th>1</th>\n",
       "      <td>2020-09-01</td>\n",
       "      <td>0.00</td>\n",
       "    </tr>\n",
       "    <tr>\n",
       "      <th>2</th>\n",
       "      <td>2020-10-01</td>\n",
       "      <td>0.00</td>\n",
       "    </tr>\n",
       "  </tbody>\n",
       "</table>\n",
       "</div>"
      ],
      "text/plain": [
       "                  DATE   EXPENSE\n",
       "0  2020-07-01 00:00:00  14163.56\n",
       "1  2020-06-01 00:00:00   9118.18\n",
       "0           2020-08-01      0.00\n",
       "1           2020-09-01      0.00\n",
       "2           2020-10-01      0.00"
      ]
     },
     "execution_count": 150,
     "metadata": {},
     "output_type": "execute_result"
    }
   ],
   "source": [
    "test = test.append(df1)\n",
    "test"
   ]
  },
  {
   "cell_type": "code",
   "execution_count": 151,
   "metadata": {
    "ExecuteTime": {
     "end_time": "2020-08-17T13:53:44.583601Z",
     "start_time": "2020-08-17T13:53:44.570605Z"
    }
   },
   "outputs": [],
   "source": [
    "test['DATE'] = pd.to_datetime(test['DATE']).apply(lambda x: x.date())\n",
    "test['DATE'] = pd.to_datetime(test.DATE,format='%Y-%m-%d')\n",
    "test.set_index('DATE', inplace=True)"
   ]
  },
  {
   "cell_type": "code",
   "execution_count": 153,
   "metadata": {
    "ExecuteTime": {
     "end_time": "2020-08-17T13:53:45.907631Z",
     "start_time": "2020-08-17T13:53:45.879624Z"
    }
   },
   "outputs": [
    {
     "name": "stdout",
     "output_type": "stream",
     "text": [
      "ADF Test Statistic : -2.9843668737348703\n",
      "p-value : 0.03638035430545447\n",
      "#Lags Used : 0\n",
      "Number of Observations Used : 21\n",
      "strong evidence against the null hypothesis(Ho), reject the null hypothesis. Data has no unit root and is stationary\n"
     ]
    }
   ],
   "source": [
    "adfuller_test(train['EXPENSE'])"
   ]
  },
  {
   "cell_type": "code",
   "execution_count": 154,
   "metadata": {
    "ExecuteTime": {
     "end_time": "2020-08-17T13:53:50.107416Z",
     "start_time": "2020-08-17T13:53:49.763842Z"
    }
   },
   "outputs": [
    {
     "data": {
      "image/png": "[encoded data removed]",
      "text/plain": [
       "<Figure size 1440x720 with 1 Axes>"
      ]
     },
     "metadata": {
      "needs_background": "light"
     },
     "output_type": "display_data"
    },
    {
     "name": "stdout",
     "output_type": "stream",
     "text": [
      "Results of Dickey-Fuller Test:\n",
      "Test Statistic                 -2.984367\n",
      "p-value                         0.036380\n",
      "#Lags Used                      0.000000\n",
      "Number of Observations Used    21.000000\n",
      "Critical Value (1%)            -3.788386\n",
      "Critical Value (5%)            -3.013098\n",
      "Critical Value (10%)           -2.646397\n",
      "dtype: float64\n"
     ]
    }
   ],
   "source": [
    "rcParams['figure.figsize'] = 20,10\n",
    "test_stationarity((train['EXPENSE']))"
   ]
  },
  {
   "cell_type": "code",
   "execution_count": 155,
   "metadata": {
    "ExecuteTime": {
     "end_time": "2020-08-17T13:53:50.425484Z",
     "start_time": "2020-08-17T13:53:50.109420Z"
    }
   },
   "outputs": [
    {
     "data": {
      "text/plain": [
       "<matplotlib.axes._subplots.AxesSubplot at 0x1abe14f4848>"
      ]
     },
     "execution_count": 155,
     "metadata": {},
     "output_type": "execute_result"
    },
    {
     "data": {
      "image/png": "[encoded data removed]",
      "text/plain": [
       "<Figure size 1440x720 with 1 Axes>"
      ]
     },
     "metadata": {
      "needs_background": "light"
     },
     "output_type": "display_data"
    }
   ],
   "source": [
    "train_log = (train['EXPENSE'])\n",
    "train_log.plot()"
   ]
  },
  {
   "cell_type": "code",
   "execution_count": 156,
   "metadata": {
    "ExecuteTime": {
     "end_time": "2020-08-17T13:53:50.789604Z",
     "start_time": "2020-08-17T13:53:50.428449Z"
    }
   },
   "outputs": [
    {
     "data": {
      "image/png": "[encoded data removed]",
      "text/plain": [
       "<Figure size 864x576 with 2 Axes>"
      ]
     },
     "metadata": {
      "needs_background": "light"
     },
     "output_type": "display_data"
    }
   ],
   "source": [
    "fig = plt.figure(figsize=(12,8))\n",
    "ax1 = fig.add_subplot(211)\n",
    "fig = sm.graphics.tsa.plot_acf(train_log,ax=ax1)\n",
    "ax2 = fig.add_subplot(212)\n",
    "fig = sm.graphics.tsa.plot_pacf(train_log,ax=ax2)"
   ]
  },
  {
   "cell_type": "code",
   "execution_count": 157,
   "metadata": {
    "ExecuteTime": {
     "end_time": "2020-08-17T13:53:50.804609Z",
     "start_time": "2020-08-17T13:53:50.791604Z"
    }
   },
   "outputs": [],
   "source": [
    "import warnings\n",
    "from pandas import read_csv\n",
    "from pandas import datetime\n",
    "from statsmodels.tsa.arima_model import ARIMA\n",
    "from sklearn.metrics import mean_squared_error\n",
    "\n",
    "# evaluate an ARIMA model for a given order (p,d,q)\n",
    "def evaluate_arima_model(X, arima_order):\n",
    "\t# prepare training dataset\n",
    "\ttrain_size = int(len(X) * 0.66)\n",
    "\ttrain, test = X[0:train_size], X[train_size:]\n",
    "\thistory = [x for x in train]\n",
    "\t# make predictions\n",
    "\tpredictions = list()\n",
    "\tfor t in range(len(test)):\n",
    "\t\tmodel = ARIMA(history, order=arima_order)\n",
    "\t\tmodel_fit = model.fit(disp=0)\n",
    "\t\tyhat = model_fit.forecast()[0]\n",
    "\t\tpredictions.append(yhat)\n",
    "\t\thistory.append(test[t])\n",
    "\t# calculate out of sample error\n",
    "\terror = mean_squared_error(test, predictions)\n",
    "\treturn error\n",
    "\n",
    "# evaluate combinations of p, d and q values for an ARIMA model\n",
    "def evaluate_models(dataset, p_values, d_values, q_values):\n",
    "\tdataset = dataset.astype('float32')\n",
    "\tbest_score, best_cfg = float(\"inf\"), None\n",
    "\tfor p in p_values:\n",
    "\t\tfor d in d_values:\n",
    "\t\t\tfor q in q_values:\n",
    "\t\t\t\torder = (p,d,q)\n",
    "\t\t\t\ttry:\n",
    "\t\t\t\t\tmse = evaluate_arima_model(dataset, order)\n",
    "\t\t\t\t\tif mse < best_score:\n",
    "\t\t\t\t\t\tbest_score, best_cfg = mse, order\n",
    "\t\t\t\t\tprint('ARIMA%s MSE=%.3f' % (order,mse))\n",
    "\t\t\t\texcept:\n",
    "\t\t\t\t\tcontinue\n",
    "\tprint('Best ARIMA%s MSE=%.3f' % (best_cfg, best_score))"
   ]
  },
  {
   "cell_type": "code",
   "execution_count": 158,
   "metadata": {
    "ExecuteTime": {
     "end_time": "2020-08-17T13:54:07.174674Z",
     "start_time": "2020-08-17T13:53:57.598440Z"
    }
   },
   "outputs": [
    {
     "name": "stdout",
     "output_type": "stream",
     "text": [
      "ARIMA(0, 0, 0) MSE=167142356.674\n",
      "ARIMA(0, 0, 1) MSE=276075310.672\n",
      "ARIMA(0, 0, 2) MSE=282863092.540\n",
      "ARIMA(0, 1, 0) MSE=192563337.595\n",
      "ARIMA(0, 1, 1) MSE=272415100.643\n",
      "ARIMA(0, 2, 0) MSE=1476506446.536\n",
      "ARIMA(1, 0, 0) MSE=145142223.671\n",
      "ARIMA(1, 1, 0) MSE=101408186.735\n",
      "ARIMA(1, 2, 0) MSE=654406302.049\n",
      "ARIMA(2, 0, 0) MSE=396062158.202\n",
      "ARIMA(2, 1, 0) MSE=547457963.591\n",
      "ARIMA(2, 2, 0) MSE=865887531.472\n",
      "ARIMA(4, 0, 0) MSE=1267770678.767\n",
      "Best ARIMA(1, 1, 0) MSE=101408186.735\n"
     ]
    }
   ],
   "source": [
    "series= train['EXPENSE']\n",
    "# evaluate parameters\n",
    "p_values = [0, 1, 2, 4, 6]\n",
    "d_values = range(0, 3)\n",
    "q_values = range(0, 3)\n",
    "warnings.filterwarnings(\"ignore\")\n",
    "evaluate_models((series).values, p_values, d_values, q_values)"
   ]
  },
  {
   "cell_type": "code",
   "execution_count": 159,
   "metadata": {
    "ExecuteTime": {
     "end_time": "2020-08-17T13:54:07.332767Z",
     "start_time": "2020-08-17T13:54:07.176674Z"
    }
   },
   "outputs": [],
   "source": [
    "model=ARIMA(train.EXPENSE,order=(1,1,0))\n",
    "model_fit=model.fit()"
   ]
  },
  {
   "cell_type": "code",
   "execution_count": 160,
   "metadata": {
    "ExecuteTime": {
     "end_time": "2020-08-17T13:54:07.363730Z",
     "start_time": "2020-08-17T13:54:07.334731Z"
    }
   },
   "outputs": [
    {
     "data": {
      "text/html": [
       "<table class=\"simpletable\">\n",
       "<caption>ARIMA Model Results</caption>\n",
       "<tr>\n",
       "  <th>Dep. Variable:</th>     <td>D.EXPENSE</td>    <th>  No. Observations:  </th>    <td>21</td>    \n",
       "</tr>\n",
       "<tr>\n",
       "  <th>Model:</th>          <td>ARIMA(1, 1, 0)</td>  <th>  Log Likelihood     </th> <td>-236.714</td> \n",
       "</tr>\n",
       "<tr>\n",
       "  <th>Method:</th>             <td>css-mle</td>     <th>  S.D. of innovations</th> <td>18969.518</td>\n",
       "</tr>\n",
       "<tr>\n",
       "  <th>Date:</th>          <td>Mon, 17 Aug 2020</td> <th>  AIC                </th>  <td>479.427</td> \n",
       "</tr>\n",
       "<tr>\n",
       "  <th>Time:</th>              <td>23:54:07</td>     <th>  BIC                </th>  <td>482.561</td> \n",
       "</tr>\n",
       "<tr>\n",
       "  <th>Sample:</th>                <td>1</td>        <th>  HQIC               </th>  <td>480.107</td> \n",
       "</tr>\n",
       "<tr>\n",
       "  <th></th>                       <td> </td>        <th>                     </th>     <td> </td>    \n",
       "</tr>\n",
       "</table>\n",
       "<table class=\"simpletable\">\n",
       "<tr>\n",
       "         <td></td>            <th>coef</th>     <th>std err</th>      <th>z</th>      <th>P>|z|</th>  <th>[0.025</th>    <th>0.975]</th>  \n",
       "</tr>\n",
       "<tr>\n",
       "  <th>const</th>           <td> -560.0496</td> <td> 3175.283</td> <td>   -0.176</td> <td> 0.860</td> <td>-6783.489</td> <td> 5663.390</td>\n",
       "</tr>\n",
       "<tr>\n",
       "  <th>ar.L1.D.EXPENSE</th> <td>   -0.3189</td> <td>    0.201</td> <td>   -1.585</td> <td> 0.113</td> <td>   -0.713</td> <td>    0.075</td>\n",
       "</tr>\n",
       "</table>\n",
       "<table class=\"simpletable\">\n",
       "<caption>Roots</caption>\n",
       "<tr>\n",
       "    <td></td>   <th>            Real</th>  <th>         Imaginary</th> <th>         Modulus</th>  <th>        Frequency</th>\n",
       "</tr>\n",
       "<tr>\n",
       "  <th>AR.1</th> <td>          -3.1354</td> <td>          +0.0000j</td> <td>           3.1354</td> <td>           0.5000</td>\n",
       "</tr>\n",
       "</table>"
      ],
      "text/plain": [
       "<class 'statsmodels.iolib.summary.Summary'>\n",
       "\"\"\"\n",
       "                             ARIMA Model Results                              \n",
       "==============================================================================\n",
       "Dep. Variable:              D.EXPENSE   No. Observations:                   21\n",
       "Model:                 ARIMA(1, 1, 0)   Log Likelihood                -236.714\n",
       "Method:                       css-mle   S.D. of innovations          18969.518\n",
       "Date:                Mon, 17 Aug 2020   AIC                            479.427\n",
       "Time:                        23:54:07   BIC                            482.561\n",
       "Sample:                             1   HQIC                           480.107\n",
       "                                                                              \n",
       "===================================================================================\n",
       "                      coef    std err          z      P>|z|      [0.025      0.975]\n",
       "-----------------------------------------------------------------------------------\n",
       "const            -560.0496   3175.283     -0.176      0.860   -6783.489    5663.390\n",
       "ar.L1.D.EXPENSE    -0.3189      0.201     -1.585      0.113      -0.713       0.075\n",
       "                                    Roots                                    \n",
       "=============================================================================\n",
       "                  Real          Imaginary           Modulus         Frequency\n",
       "-----------------------------------------------------------------------------\n",
       "AR.1           -3.1354           +0.0000j            3.1354            0.5000\n",
       "-----------------------------------------------------------------------------\n",
       "\"\"\""
      ]
     },
     "execution_count": 160,
     "metadata": {},
     "output_type": "execute_result"
    }
   ],
   "source": [
    "model_fit.summary()"
   ]
  },
  {
   "cell_type": "code",
   "execution_count": 161,
   "metadata": {
    "ExecuteTime": {
     "end_time": "2020-08-17T13:54:19.766896Z",
     "start_time": "2020-08-17T13:54:19.267622Z"
    }
   },
   "outputs": [
    {
     "data": {
      "image/png": "[encoded data removed]",
      "text/plain": [
       "<Figure size 1440x720 with 2 Axes>"
      ]
     },
     "metadata": {
      "needs_background": "light"
     },
     "output_type": "display_data"
    }
   ],
   "source": [
    "residuals = pd.DataFrame(model_fit.resid)\n",
    "fig, ax = plt.subplots(1,2)\n",
    "residuals.plot(title=\"Residuals\", ax=ax[0])\n",
    "residuals.plot(kind='kde', title='Density', ax=ax[1])\n",
    "plt.show()"
   ]
  },
  {
   "cell_type": "code",
   "execution_count": 162,
   "metadata": {
    "ExecuteTime": {
     "end_time": "2020-08-17T13:54:21.743476Z",
     "start_time": "2020-08-17T13:54:21.430282Z"
    }
   },
   "outputs": [
    {
     "data": {
      "image/png": "[encoded data removed]",
      "text/plain": [
       "<Figure size 1440x720 with 1 Axes>"
      ]
     },
     "metadata": {
      "needs_background": "light"
     },
     "output_type": "display_data"
    }
   ],
   "source": [
    "model_fit.plot_predict(dynamic=False)\n",
    "plt.show()"
   ]
  },
  {
   "cell_type": "code",
   "execution_count": 163,
   "metadata": {
    "ExecuteTime": {
     "end_time": "2020-08-17T13:54:23.478624Z",
     "start_time": "2020-08-17T13:54:23.466187Z"
    }
   },
   "outputs": [],
   "source": [
    "# test_log = (test['EXPENSE'])\n",
    "# predictions = model_fit.predict(start='2020-06-01', end='2020-08-01', dynamic=False) \n",
    "# predictions = model_fit.predict(start=3, end=8, dynamic=False) "
   ]
  },
  {
   "cell_type": "code",
   "execution_count": 164,
   "metadata": {
    "ExecuteTime": {
     "end_time": "2020-08-17T13:54:23.494649Z",
     "start_time": "2020-08-17T13:54:23.481614Z"
    }
   },
   "outputs": [],
   "source": [
    "# predictions = fit1.predict(start=1, end=10, dynamic=False) \n",
    "# predictions = model_fit.predict(start='2020-06-01', end='2020-08-01', dynamic=False) \n",
    "# result_df = pd.DataFrame(predictions)\n",
    "# result_df"
   ]
  },
  {
   "cell_type": "code",
   "execution_count": 165,
   "metadata": {
    "ExecuteTime": {
     "end_time": "2020-08-17T13:54:25.219351Z",
     "start_time": "2020-08-17T13:54:25.206356Z"
    }
   },
   "outputs": [],
   "source": [
    "# for i in range(0,20):\n",
    "#     try:\n",
    "#             y_hat_avg = test.copy() \n",
    "#             fit1 = sm.tsa.statespace.SARIMAX(train_log, order=(1, 1, 0),seasonal_order=(1, 0, 1,i)).fit()\n",
    "#             y_hat_avg['SARIMA'] = fit1.predict(start=\"2020-05-01\", end=\"2020-07-01\", dynamic=True)\n",
    "#             error = mean_squared_error(test['EXPENSE'], np.exp(y_hat_avg['SARIMA']))\n",
    "#             print(i,error)\n",
    "#     except:\n",
    "#         continue"
   ]
  },
  {
   "cell_type": "code",
   "execution_count": 166,
   "metadata": {
    "ExecuteTime": {
     "end_time": "2020-08-17T13:54:27.108420Z",
     "start_time": "2020-08-17T13:54:27.095408Z"
    }
   },
   "outputs": [],
   "source": [
    "# y_hat_avg = test.copy() \n",
    "# fit1 = sm.tsa.statespace.SARIMAX(train_log, order=(1, 1, 0),seasonal_order=(1, 0, 1,7)).fit() \n",
    "# y_hat_avg['SARIMA'] = fit1.predict(start=\"2020-05-01\", end=\"2020-07-01\", dynamic=True)\n",
    "# prediction = np.exp(y_hat_avg['SARIMA'])\n",
    "# # error = mean_squared_error(test['EXPENSE'], prediction)\n",
    "# # error"
   ]
  },
  {
   "cell_type": "code",
   "execution_count": 167,
   "metadata": {
    "ExecuteTime": {
     "end_time": "2020-08-17T13:54:27.124406Z",
     "start_time": "2020-08-17T13:54:27.111410Z"
    }
   },
   "outputs": [],
   "source": [
    "fc, se, conf = model_fit.forecast(5, alpha=0.05)  # 95% conf"
   ]
  },
  {
   "cell_type": "code",
   "execution_count": 168,
   "metadata": {
    "ExecuteTime": {
     "end_time": "2020-08-17T13:54:28.800610Z",
     "start_time": "2020-08-17T13:54:28.788097Z"
    }
   },
   "outputs": [],
   "source": [
    "fc_series = pd.Series(fc, index=test.index)\n",
    "lower_series = pd.Series(conf[:, 0], index=test.index)\n",
    "upper_series = pd.Series(conf[:, 1], index=test.index)"
   ]
  },
  {
   "cell_type": "code",
   "execution_count": 169,
   "metadata": {
    "ExecuteTime": {
     "end_time": "2020-08-17T13:54:33.832592Z",
     "start_time": "2020-08-17T13:54:33.819443Z"
    }
   },
   "outputs": [
    {
     "data": {
      "text/plain": [
       "(DATE\n",
       " 2020-07-01   -32768.827195\n",
       " 2020-06-01   -41781.381979\n",
       " 2020-08-01   -50728.389218\n",
       " 2020-09-01   -58182.331241\n",
       " 2020-10-01   -65014.427095\n",
       " dtype: float64,\n",
       " DATE\n",
       " 2020-07-01    41590.318165\n",
       " 2020-06-01    48185.313244\n",
       " 2020-08-01    56426.032267\n",
       " 2020-09-01    62627.894576\n",
       " 2020-10-01    68381.985000\n",
       " dtype: float64)"
      ]
     },
     "execution_count": 169,
     "metadata": {},
     "output_type": "execute_result"
    }
   ],
   "source": [
    "lower_series,upper_series"
   ]
  },
  {
   "cell_type": "code",
   "execution_count": 170,
   "metadata": {
    "ExecuteTime": {
     "end_time": "2020-08-17T13:54:35.869177Z",
     "start_time": "2020-08-17T13:54:35.574109Z"
    }
   },
   "outputs": [
    {
     "data": {
      "image/png": "[encoded data removed]",
      "text/plain": [
       "<Figure size 1200x500 with 1 Axes>"
      ]
     },
     "metadata": {
      "needs_background": "light"
     },
     "output_type": "display_data"
    }
   ],
   "source": [
    "plt.figure(figsize=(12,5), dpi=100)\n",
    "plt.plot(train, label='training')\n",
    "plt.plot(test, label='actual')\n",
    "plt.plot(fc_series, label='forecast')\n",
    "plt.fill_between(lower_series.index, lower_series, upper_series, \n",
    "                 color='k', alpha=.15)\n",
    "plt.title('Forecast vs Actuals')\n",
    "plt.legend(loc='upper left', fontsize=8)\n",
    "plt.show()"
   ]
  },
  {
   "cell_type": "code",
   "execution_count": null,
   "metadata": {},
   "outputs": [],
   "source": []
  },
  {
   "cell_type": "code",
   "execution_count": 26,
   "metadata": {
    "ExecuteTime": {
     "end_time": "2020-08-18T12:21:18.490158Z",
     "start_time": "2020-08-18T12:21:18.476802Z"
    }
   },
   "outputs": [],
   "source": [
    "# import pandas as pd\n",
    "# df = pd.DataFrame({\"YEAR\": [2020,2020,2020,2020,2020],\n",
    "#                    \"MONTH\": [7, 6, 5, 4, 3],\n",
    "#                    \"DATE\": [\"2020-07-01\", \"2020-06-01\", \"2020-05-01\", \"2020-04-01\",\"2020-03-01\"],\n",
    "#                    \"INCOME\": [10, 20, 20, 30, 30],\n",
    "#                    \"CATEGORY\":[\"Auto & transport\",\"Auto & transport\",\"Auto & transport\",\"Bottleshops\",\"Bottleshops\"],\n",
    "#                    \"CAT_TOT\":[12.5,10,9,4,3]\n",
    "#                   })\n",
    "# df.sort_values(['CATEGORY','YEAR','MONTH'], inplace=True)\n",
    "# df.head(10)"
   ]
  },
  {
   "cell_type": "code",
   "execution_count": 27,
   "metadata": {
    "ExecuteTime": {
     "end_time": "2020-08-18T12:21:20.406335Z",
     "start_time": "2020-08-18T12:21:20.401965Z"
    }
   },
   "outputs": [],
   "source": [
    "# table = pd.pivot_table(df, values='CAT_TOT', index=['YEAR', 'MONTH','DATE','INCOME'],\n",
    "#                     columns=['CATEGORY'], aggfunc=np.sum,fill_value=0)\n",
    "# table"
   ]
  },
  {
   "cell_type": "code",
   "execution_count": 29,
   "metadata": {
    "ExecuteTime": {
     "end_time": "2020-08-18T12:21:26.779856Z",
     "start_time": "2020-08-18T12:21:26.762372Z"
    }
   },
   "outputs": [],
   "source": [
    "# table.index = table.index.swaplevel(\"MONTH\",\"YEAR\")\n",
    "# table"
   ]
  },
  {
   "cell_type": "code",
   "execution_count": 30,
   "metadata": {
    "ExecuteTime": {
     "end_time": "2020-08-18T12:21:31.338094Z",
     "start_time": "2020-08-18T12:21:31.320994Z"
    }
   },
   "outputs": [],
   "source": [
    "# table.reset_index()"
   ]
  },
  {
   "cell_type": "markdown",
   "metadata": {},
   "source": [
    "# Pivot Categories:"
   ]
  },
  {
   "cell_type": "code",
   "execution_count": 56,
   "metadata": {
    "ExecuteTime": {
     "end_time": "2020-08-18T12:49:32.681709Z",
     "start_time": "2020-08-18T12:49:32.637789Z"
    }
   },
   "outputs": [
    {
     "data": {
      "text/html": [
       "<div>\n",
       "<style scoped>\n",
       "    .dataframe tbody tr th:only-of-type {\n",
       "        vertical-align: middle;\n",
       "    }\n",
       "\n",
       "    .dataframe tbody tr th {\n",
       "        vertical-align: top;\n",
       "    }\n",
       "\n",
       "    .dataframe thead th {\n",
       "        text-align: right;\n",
       "    }\n",
       "</style>\n",
       "<table border=\"1\" class=\"dataframe\">\n",
       "  <thead>\n",
       "    <tr style=\"text-align: right;\">\n",
       "      <th></th>\n",
       "      <th>YEAR</th>\n",
       "      <th>MONTH</th>\n",
       "      <th>DATE</th>\n",
       "      <th>INCOME</th>\n",
       "      <th>CATEGORY</th>\n",
       "      <th>CAT_TOT</th>\n",
       "    </tr>\n",
       "  </thead>\n",
       "  <tbody>\n",
       "    <tr>\n",
       "      <th>22</th>\n",
       "      <td>2018</td>\n",
       "      <td>8</td>\n",
       "      <td>2018-08-01</td>\n",
       "      <td>7667.51</td>\n",
       "      <td>Auto &amp; transport</td>\n",
       "      <td>376.72</td>\n",
       "    </tr>\n",
       "    <tr>\n",
       "      <th>21</th>\n",
       "      <td>2018</td>\n",
       "      <td>9</td>\n",
       "      <td>2018-09-01</td>\n",
       "      <td>7771.21</td>\n",
       "      <td>Auto &amp; transport</td>\n",
       "      <td>483.24</td>\n",
       "    </tr>\n",
       "    <tr>\n",
       "      <th>20</th>\n",
       "      <td>2018</td>\n",
       "      <td>10</td>\n",
       "      <td>2018-10-01</td>\n",
       "      <td>6801.50</td>\n",
       "      <td>Auto &amp; transport</td>\n",
       "      <td>238.56</td>\n",
       "    </tr>\n",
       "    <tr>\n",
       "      <th>19</th>\n",
       "      <td>2018</td>\n",
       "      <td>11</td>\n",
       "      <td>2018-11-01</td>\n",
       "      <td>7125.50</td>\n",
       "      <td>Auto &amp; transport</td>\n",
       "      <td>575.50</td>\n",
       "    </tr>\n",
       "    <tr>\n",
       "      <th>18</th>\n",
       "      <td>2018</td>\n",
       "      <td>12</td>\n",
       "      <td>2018-12-01</td>\n",
       "      <td>7558.02</td>\n",
       "      <td>Auto &amp; transport</td>\n",
       "      <td>396.20</td>\n",
       "    </tr>\n",
       "  </tbody>\n",
       "</table>\n",
       "</div>"
      ],
      "text/plain": [
       "    YEAR  MONTH       DATE   INCOME          CATEGORY  CAT_TOT\n",
       "22  2018      8 2018-08-01  7667.51  Auto & transport   376.72\n",
       "21  2018      9 2018-09-01  7771.21  Auto & transport   483.24\n",
       "20  2018     10 2018-10-01  6801.50  Auto & transport   238.56\n",
       "19  2018     11 2018-11-01  7125.50  Auto & transport   575.50\n",
       "18  2018     12 2018-12-01  7558.02  Auto & transport   396.20"
      ]
     },
     "execution_count": 56,
     "metadata": {},
     "output_type": "execute_result"
    }
   ],
   "source": [
    "df = pd.read_csv('OldCatCorr.csv')\n",
    "df.sort_values(['CATEGORY','YEAR','MONTH'], inplace=True)\n",
    "\n",
    "df['DATE'] = pd.to_datetime(df['DATE']).apply(lambda x: x.date())\n",
    "df['DATE'] = pd.to_datetime(df.DATE,format='%Y-%m-%d')\n",
    "df['DATE'] = df['DATE'].apply(lambda x:x.replace(day=1))\n",
    "\n",
    "df.head()"
   ]
  },
  {
   "cell_type": "code",
   "execution_count": 57,
   "metadata": {
    "ExecuteTime": {
     "end_time": "2020-08-18T12:49:36.837064Z",
     "start_time": "2020-08-18T12:49:36.765156Z"
    }
   },
   "outputs": [
    {
     "data": {
      "text/html": [
       "<div>\n",
       "<style scoped>\n",
       "    .dataframe tbody tr th:only-of-type {\n",
       "        vertical-align: middle;\n",
       "    }\n",
       "\n",
       "    .dataframe tbody tr th {\n",
       "        vertical-align: top;\n",
       "    }\n",
       "\n",
       "    .dataframe thead th {\n",
       "        text-align: right;\n",
       "    }\n",
       "</style>\n",
       "<table border=\"1\" class=\"dataframe\">\n",
       "  <thead>\n",
       "    <tr style=\"text-align: right;\">\n",
       "      <th>CATEGORY</th>\n",
       "      <th>MONTH</th>\n",
       "      <th>YEAR</th>\n",
       "      <th>DATE</th>\n",
       "      <th>INCOME</th>\n",
       "      <th>Auto &amp; transport</th>\n",
       "      <th>Bottleshops</th>\n",
       "      <th>Cash Out</th>\n",
       "      <th>Chemists</th>\n",
       "      <th>Education</th>\n",
       "      <th>Entertainment</th>\n",
       "      <th>...</th>\n",
       "      <th>Hotels, motels &amp; resorts</th>\n",
       "      <th>Insurance</th>\n",
       "      <th>Investments</th>\n",
       "      <th>Loan Pay</th>\n",
       "      <th>Miscellaneous</th>\n",
       "      <th>Restaurants &amp; dining</th>\n",
       "      <th>Retail Shopping</th>\n",
       "      <th>Subscription</th>\n",
       "      <th>Travel</th>\n",
       "      <th>Utilities</th>\n",
       "    </tr>\n",
       "  </thead>\n",
       "  <tbody>\n",
       "    <tr>\n",
       "      <th>23</th>\n",
       "      <td>7</td>\n",
       "      <td>2020</td>\n",
       "      <td>2020-07-01</td>\n",
       "      <td>13218.79</td>\n",
       "      <td>12.50</td>\n",
       "      <td>1200.0</td>\n",
       "      <td>3246.06</td>\n",
       "      <td>85.00</td>\n",
       "      <td>22.75</td>\n",
       "      <td>0.00</td>\n",
       "      <td>...</td>\n",
       "      <td>0.0</td>\n",
       "      <td>404.95</td>\n",
       "      <td>200.0</td>\n",
       "      <td>7480.0</td>\n",
       "      <td>95.96</td>\n",
       "      <td>23.00</td>\n",
       "      <td>55.13</td>\n",
       "      <td>21.48</td>\n",
       "      <td>0.0</td>\n",
       "      <td>386.87</td>\n",
       "    </tr>\n",
       "    <tr>\n",
       "      <th>22</th>\n",
       "      <td>6</td>\n",
       "      <td>2020</td>\n",
       "      <td>2020-06-01</td>\n",
       "      <td>8068.83</td>\n",
       "      <td>165.56</td>\n",
       "      <td>1000.0</td>\n",
       "      <td>150.00</td>\n",
       "      <td>30.44</td>\n",
       "      <td>35.64</td>\n",
       "      <td>7.49</td>\n",
       "      <td>...</td>\n",
       "      <td>0.0</td>\n",
       "      <td>572.20</td>\n",
       "      <td>200.0</td>\n",
       "      <td>3490.0</td>\n",
       "      <td>151.77</td>\n",
       "      <td>114.24</td>\n",
       "      <td>54.00</td>\n",
       "      <td>26.48</td>\n",
       "      <td>50.6</td>\n",
       "      <td>1995.82</td>\n",
       "    </tr>\n",
       "    <tr>\n",
       "      <th>21</th>\n",
       "      <td>5</td>\n",
       "      <td>2020</td>\n",
       "      <td>2020-05-01</td>\n",
       "      <td>10760.91</td>\n",
       "      <td>62.52</td>\n",
       "      <td>500.0</td>\n",
       "      <td>1150.00</td>\n",
       "      <td>208.94</td>\n",
       "      <td>4189.00</td>\n",
       "      <td>0.00</td>\n",
       "      <td>...</td>\n",
       "      <td>0.0</td>\n",
       "      <td>431.73</td>\n",
       "      <td>200.0</td>\n",
       "      <td>5480.0</td>\n",
       "      <td>0.00</td>\n",
       "      <td>0.00</td>\n",
       "      <td>19.97</td>\n",
       "      <td>21.48</td>\n",
       "      <td>0.0</td>\n",
       "      <td>483.82</td>\n",
       "    </tr>\n",
       "    <tr>\n",
       "      <th>20</th>\n",
       "      <td>4</td>\n",
       "      <td>2020</td>\n",
       "      <td>2020-04-01</td>\n",
       "      <td>24528.98</td>\n",
       "      <td>0.00</td>\n",
       "      <td>400.0</td>\n",
       "      <td>1420.00</td>\n",
       "      <td>0.00</td>\n",
       "      <td>794.95</td>\n",
       "      <td>0.00</td>\n",
       "      <td>...</td>\n",
       "      <td>0.0</td>\n",
       "      <td>508.69</td>\n",
       "      <td>200.0</td>\n",
       "      <td>16360.0</td>\n",
       "      <td>0.00</td>\n",
       "      <td>0.00</td>\n",
       "      <td>59.00</td>\n",
       "      <td>21.48</td>\n",
       "      <td>0.0</td>\n",
       "      <td>493.23</td>\n",
       "    </tr>\n",
       "    <tr>\n",
       "      <th>19</th>\n",
       "      <td>3</td>\n",
       "      <td>2020</td>\n",
       "      <td>2020-03-01</td>\n",
       "      <td>44410.36</td>\n",
       "      <td>122.54</td>\n",
       "      <td>39.0</td>\n",
       "      <td>1681.00</td>\n",
       "      <td>73.95</td>\n",
       "      <td>83.80</td>\n",
       "      <td>0.00</td>\n",
       "      <td>...</td>\n",
       "      <td>0.0</td>\n",
       "      <td>1197.96</td>\n",
       "      <td>200.0</td>\n",
       "      <td>41470.0</td>\n",
       "      <td>32.32</td>\n",
       "      <td>123.40</td>\n",
       "      <td>68.48</td>\n",
       "      <td>31.98</td>\n",
       "      <td>0.0</td>\n",
       "      <td>704.53</td>\n",
       "    </tr>\n",
       "  </tbody>\n",
       "</table>\n",
       "<p>5 rows × 24 columns</p>\n",
       "</div>"
      ],
      "text/plain": [
       "CATEGORY  MONTH  YEAR       DATE    INCOME  Auto & transport  Bottleshops  \\\n",
       "23            7  2020 2020-07-01  13218.79             12.50       1200.0   \n",
       "22            6  2020 2020-06-01   8068.83            165.56       1000.0   \n",
       "21            5  2020 2020-05-01  10760.91             62.52        500.0   \n",
       "20            4  2020 2020-04-01  24528.98              0.00        400.0   \n",
       "19            3  2020 2020-03-01  44410.36            122.54         39.0   \n",
       "\n",
       "CATEGORY  Cash Out  Chemists  Education  Entertainment  ...  \\\n",
       "23         3246.06     85.00      22.75           0.00  ...   \n",
       "22          150.00     30.44      35.64           7.49  ...   \n",
       "21         1150.00    208.94    4189.00           0.00  ...   \n",
       "20         1420.00      0.00     794.95           0.00  ...   \n",
       "19         1681.00     73.95      83.80           0.00  ...   \n",
       "\n",
       "CATEGORY  Hotels, motels & resorts  Insurance  Investments  Loan Pay  \\\n",
       "23                             0.0     404.95        200.0    7480.0   \n",
       "22                             0.0     572.20        200.0    3490.0   \n",
       "21                             0.0     431.73        200.0    5480.0   \n",
       "20                             0.0     508.69        200.0   16360.0   \n",
       "19                             0.0    1197.96        200.0   41470.0   \n",
       "\n",
       "CATEGORY  Miscellaneous  Restaurants & dining  Retail Shopping  Subscription  \\\n",
       "23                95.96                 23.00            55.13         21.48   \n",
       "22               151.77                114.24            54.00         26.48   \n",
       "21                 0.00                  0.00            19.97         21.48   \n",
       "20                 0.00                  0.00            59.00         21.48   \n",
       "19                32.32                123.40            68.48         31.98   \n",
       "\n",
       "CATEGORY  Travel  Utilities  \n",
       "23           0.0     386.87  \n",
       "22          50.6    1995.82  \n",
       "21           0.0     483.82  \n",
       "20           0.0     493.23  \n",
       "19           0.0     704.53  \n",
       "\n",
       "[5 rows x 24 columns]"
      ]
     },
     "execution_count": 57,
     "metadata": {},
     "output_type": "execute_result"
    }
   ],
   "source": [
    "table = pd.pivot_table(df, values='CAT_TOT', index=['YEAR', 'MONTH','DATE','INCOME'],\n",
    "                    columns=['CATEGORY'], aggfunc=np.sum,fill_value=0)\n",
    "table.index = table.index.swaplevel(\"MONTH\",\"YEAR\")\n",
    "table.reset_index(inplace =True)\n",
    "table.sort_values(['YEAR','MONTH','DATE'], inplace =True, ascending=False)\n",
    "table.head()"
   ]
  },
  {
   "cell_type": "code",
   "execution_count": 58,
   "metadata": {
    "ExecuteTime": {
     "end_time": "2020-08-18T12:50:07.934970Z",
     "start_time": "2020-08-18T12:50:07.902471Z"
    }
   },
   "outputs": [],
   "source": [
    "table.to_csv('verify.csv')"
   ]
  },
  {
   "cell_type": "code",
   "execution_count": 67,
   "metadata": {
    "ExecuteTime": {
     "end_time": "2020-08-18T12:56:25.258530Z",
     "start_time": "2020-08-18T12:56:25.240488Z"
    }
   },
   "outputs": [],
   "source": [
    "df = table[['DATE', 'INCOME', 'Auto & transport', 'Bottleshops',\n",
    "       'Cash Out', 'Chemists', 'Education', 'Entertainment',\n",
    "       'Fast food restaurants', 'Fees & charges', 'Gifts & donations',\n",
    "       'Grocery & supermarkets', 'Hotels, motels & resorts', 'Insurance',\n",
    "       'Investments', 'Loan Pay', 'Miscellaneous', 'Restaurants & dining',\n",
    "       'Retail Shopping', 'Subscription', 'Travel', 'Utilities']]"
   ]
  },
  {
   "cell_type": "code",
   "execution_count": 68,
   "metadata": {
    "ExecuteTime": {
     "end_time": "2020-08-18T12:56:26.956180Z",
     "start_time": "2020-08-18T12:56:26.902370Z"
    }
   },
   "outputs": [
    {
     "data": {
      "text/html": [
       "<div>\n",
       "<style scoped>\n",
       "    .dataframe tbody tr th:only-of-type {\n",
       "        vertical-align: middle;\n",
       "    }\n",
       "\n",
       "    .dataframe tbody tr th {\n",
       "        vertical-align: top;\n",
       "    }\n",
       "\n",
       "    .dataframe thead th {\n",
       "        text-align: right;\n",
       "    }\n",
       "</style>\n",
       "<table border=\"1\" class=\"dataframe\">\n",
       "  <thead>\n",
       "    <tr style=\"text-align: right;\">\n",
       "      <th>CATEGORY</th>\n",
       "      <th>DATE</th>\n",
       "      <th>INCOME</th>\n",
       "      <th>Auto &amp; transport</th>\n",
       "      <th>Bottleshops</th>\n",
       "      <th>Cash Out</th>\n",
       "      <th>Chemists</th>\n",
       "      <th>Education</th>\n",
       "      <th>Entertainment</th>\n",
       "      <th>Fast food restaurants</th>\n",
       "      <th>Fees &amp; charges</th>\n",
       "      <th>...</th>\n",
       "      <th>Hotels, motels &amp; resorts</th>\n",
       "      <th>Insurance</th>\n",
       "      <th>Investments</th>\n",
       "      <th>Loan Pay</th>\n",
       "      <th>Miscellaneous</th>\n",
       "      <th>Restaurants &amp; dining</th>\n",
       "      <th>Retail Shopping</th>\n",
       "      <th>Subscription</th>\n",
       "      <th>Travel</th>\n",
       "      <th>Utilities</th>\n",
       "    </tr>\n",
       "  </thead>\n",
       "  <tbody>\n",
       "    <tr>\n",
       "      <th>0</th>\n",
       "      <td>2020-07-01</td>\n",
       "      <td>13218.79</td>\n",
       "      <td>12.50</td>\n",
       "      <td>1200.0</td>\n",
       "      <td>3246.06</td>\n",
       "      <td>85.00</td>\n",
       "      <td>22.75</td>\n",
       "      <td>0.00</td>\n",
       "      <td>115.94</td>\n",
       "      <td>500.0</td>\n",
       "      <td>...</td>\n",
       "      <td>0.0</td>\n",
       "      <td>404.95</td>\n",
       "      <td>200.0</td>\n",
       "      <td>7480.0</td>\n",
       "      <td>95.96</td>\n",
       "      <td>23.00</td>\n",
       "      <td>55.13</td>\n",
       "      <td>21.48</td>\n",
       "      <td>0.0</td>\n",
       "      <td>386.87</td>\n",
       "    </tr>\n",
       "    <tr>\n",
       "      <th>1</th>\n",
       "      <td>2020-06-01</td>\n",
       "      <td>8068.83</td>\n",
       "      <td>165.56</td>\n",
       "      <td>1000.0</td>\n",
       "      <td>150.00</td>\n",
       "      <td>30.44</td>\n",
       "      <td>35.64</td>\n",
       "      <td>7.49</td>\n",
       "      <td>30.00</td>\n",
       "      <td>300.0</td>\n",
       "      <td>...</td>\n",
       "      <td>0.0</td>\n",
       "      <td>572.20</td>\n",
       "      <td>200.0</td>\n",
       "      <td>3490.0</td>\n",
       "      <td>151.77</td>\n",
       "      <td>114.24</td>\n",
       "      <td>54.00</td>\n",
       "      <td>26.48</td>\n",
       "      <td>50.6</td>\n",
       "      <td>1995.82</td>\n",
       "    </tr>\n",
       "    <tr>\n",
       "      <th>2</th>\n",
       "      <td>2020-05-01</td>\n",
       "      <td>10760.91</td>\n",
       "      <td>62.52</td>\n",
       "      <td>500.0</td>\n",
       "      <td>1150.00</td>\n",
       "      <td>208.94</td>\n",
       "      <td>4189.00</td>\n",
       "      <td>0.00</td>\n",
       "      <td>0.00</td>\n",
       "      <td>400.0</td>\n",
       "      <td>...</td>\n",
       "      <td>0.0</td>\n",
       "      <td>431.73</td>\n",
       "      <td>200.0</td>\n",
       "      <td>5480.0</td>\n",
       "      <td>0.00</td>\n",
       "      <td>0.00</td>\n",
       "      <td>19.97</td>\n",
       "      <td>21.48</td>\n",
       "      <td>0.0</td>\n",
       "      <td>483.82</td>\n",
       "    </tr>\n",
       "    <tr>\n",
       "      <th>3</th>\n",
       "      <td>2020-04-01</td>\n",
       "      <td>24528.98</td>\n",
       "      <td>0.00</td>\n",
       "      <td>400.0</td>\n",
       "      <td>1420.00</td>\n",
       "      <td>0.00</td>\n",
       "      <td>794.95</td>\n",
       "      <td>0.00</td>\n",
       "      <td>0.00</td>\n",
       "      <td>0.0</td>\n",
       "      <td>...</td>\n",
       "      <td>0.0</td>\n",
       "      <td>508.69</td>\n",
       "      <td>200.0</td>\n",
       "      <td>16360.0</td>\n",
       "      <td>0.00</td>\n",
       "      <td>0.00</td>\n",
       "      <td>59.00</td>\n",
       "      <td>21.48</td>\n",
       "      <td>0.0</td>\n",
       "      <td>493.23</td>\n",
       "    </tr>\n",
       "    <tr>\n",
       "      <th>4</th>\n",
       "      <td>2020-03-01</td>\n",
       "      <td>44410.36</td>\n",
       "      <td>122.54</td>\n",
       "      <td>39.0</td>\n",
       "      <td>1681.00</td>\n",
       "      <td>73.95</td>\n",
       "      <td>83.80</td>\n",
       "      <td>0.00</td>\n",
       "      <td>0.00</td>\n",
       "      <td>0.0</td>\n",
       "      <td>...</td>\n",
       "      <td>0.0</td>\n",
       "      <td>1197.96</td>\n",
       "      <td>200.0</td>\n",
       "      <td>41470.0</td>\n",
       "      <td>32.32</td>\n",
       "      <td>123.40</td>\n",
       "      <td>68.48</td>\n",
       "      <td>31.98</td>\n",
       "      <td>0.0</td>\n",
       "      <td>704.53</td>\n",
       "    </tr>\n",
       "  </tbody>\n",
       "</table>\n",
       "<p>5 rows × 22 columns</p>\n",
       "</div>"
      ],
      "text/plain": [
       "CATEGORY       DATE    INCOME  Auto & transport  Bottleshops  Cash Out  \\\n",
       "0        2020-07-01  13218.79             12.50       1200.0   3246.06   \n",
       "1        2020-06-01   8068.83            165.56       1000.0    150.00   \n",
       "2        2020-05-01  10760.91             62.52        500.0   1150.00   \n",
       "3        2020-04-01  24528.98              0.00        400.0   1420.00   \n",
       "4        2020-03-01  44410.36            122.54         39.0   1681.00   \n",
       "\n",
       "CATEGORY  Chemists  Education  Entertainment  Fast food restaurants  \\\n",
       "0            85.00      22.75           0.00                 115.94   \n",
       "1            30.44      35.64           7.49                  30.00   \n",
       "2           208.94    4189.00           0.00                   0.00   \n",
       "3             0.00     794.95           0.00                   0.00   \n",
       "4            73.95      83.80           0.00                   0.00   \n",
       "\n",
       "CATEGORY  Fees & charges  ...  Hotels, motels & resorts  Insurance  \\\n",
       "0                  500.0  ...                       0.0     404.95   \n",
       "1                  300.0  ...                       0.0     572.20   \n",
       "2                  400.0  ...                       0.0     431.73   \n",
       "3                    0.0  ...                       0.0     508.69   \n",
       "4                    0.0  ...                       0.0    1197.96   \n",
       "\n",
       "CATEGORY  Investments  Loan Pay  Miscellaneous  Restaurants & dining  \\\n",
       "0               200.0    7480.0          95.96                 23.00   \n",
       "1               200.0    3490.0         151.77                114.24   \n",
       "2               200.0    5480.0           0.00                  0.00   \n",
       "3               200.0   16360.0           0.00                  0.00   \n",
       "4               200.0   41470.0          32.32                123.40   \n",
       "\n",
       "CATEGORY  Retail Shopping  Subscription  Travel  Utilities  \n",
       "0                   55.13         21.48     0.0     386.87  \n",
       "1                   54.00         26.48    50.6    1995.82  \n",
       "2                   19.97         21.48     0.0     483.82  \n",
       "3                   59.00         21.48     0.0     493.23  \n",
       "4                   68.48         31.98     0.0     704.53  \n",
       "\n",
       "[5 rows x 22 columns]"
      ]
     },
     "execution_count": 68,
     "metadata": {},
     "output_type": "execute_result"
    }
   ],
   "source": [
    "df.reset_index(inplace=True, drop=True)\n",
    "# df = df.drop(['CATEGORY'])\n",
    "df.head()"
   ]
  },
  {
   "cell_type": "markdown",
   "metadata": {},
   "source": [
    "# Correlation Matrix:"
   ]
  },
  {
   "cell_type": "code",
   "execution_count": 102,
   "metadata": {
    "ExecuteTime": {
     "end_time": "2020-08-18T13:36:35.164927Z",
     "start_time": "2020-08-18T13:36:35.106916Z"
    }
   },
   "outputs": [
    {
     "data": {
      "text/html": [
       "<div>\n",
       "<style scoped>\n",
       "    .dataframe tbody tr th:only-of-type {\n",
       "        vertical-align: middle;\n",
       "    }\n",
       "\n",
       "    .dataframe tbody tr th {\n",
       "        vertical-align: top;\n",
       "    }\n",
       "\n",
       "    .dataframe thead th {\n",
       "        text-align: right;\n",
       "    }\n",
       "</style>\n",
       "<table border=\"1\" class=\"dataframe\">\n",
       "  <thead>\n",
       "    <tr style=\"text-align: right;\">\n",
       "      <th></th>\n",
       "      <th>DATE</th>\n",
       "      <th>Auto &amp; transport</th>\n",
       "      <th>Bottleshops</th>\n",
       "      <th>Cash Out</th>\n",
       "      <th>Chemists</th>\n",
       "      <th>Education</th>\n",
       "      <th>Entertainment</th>\n",
       "      <th>Fast food restaurants</th>\n",
       "      <th>Fees &amp; charges</th>\n",
       "      <th>Gifts &amp; donations</th>\n",
       "      <th>...</th>\n",
       "      <th>Hotels, motels &amp; resorts</th>\n",
       "      <th>Insurance</th>\n",
       "      <th>Investments</th>\n",
       "      <th>Loan Pay</th>\n",
       "      <th>Miscellaneous</th>\n",
       "      <th>Restaurants &amp; dining</th>\n",
       "      <th>Retail Shopping</th>\n",
       "      <th>Subscription</th>\n",
       "      <th>Travel</th>\n",
       "      <th>Utilities</th>\n",
       "    </tr>\n",
       "  </thead>\n",
       "  <tbody>\n",
       "    <tr>\n",
       "      <th>0</th>\n",
       "      <td>2020-07-01</td>\n",
       "      <td>12.50</td>\n",
       "      <td>1200.0</td>\n",
       "      <td>3246.06</td>\n",
       "      <td>85.00</td>\n",
       "      <td>22.75</td>\n",
       "      <td>0.00</td>\n",
       "      <td>115.94</td>\n",
       "      <td>500.0</td>\n",
       "      <td>5.5</td>\n",
       "      <td>...</td>\n",
       "      <td>0.0</td>\n",
       "      <td>404.95</td>\n",
       "      <td>200.0</td>\n",
       "      <td>7480.0</td>\n",
       "      <td>95.96</td>\n",
       "      <td>23.00</td>\n",
       "      <td>55.13</td>\n",
       "      <td>21.48</td>\n",
       "      <td>0.0</td>\n",
       "      <td>386.87</td>\n",
       "    </tr>\n",
       "    <tr>\n",
       "      <th>1</th>\n",
       "      <td>2020-06-01</td>\n",
       "      <td>165.56</td>\n",
       "      <td>1000.0</td>\n",
       "      <td>150.00</td>\n",
       "      <td>30.44</td>\n",
       "      <td>35.64</td>\n",
       "      <td>7.49</td>\n",
       "      <td>30.00</td>\n",
       "      <td>300.0</td>\n",
       "      <td>0.0</td>\n",
       "      <td>...</td>\n",
       "      <td>0.0</td>\n",
       "      <td>572.20</td>\n",
       "      <td>200.0</td>\n",
       "      <td>3490.0</td>\n",
       "      <td>151.77</td>\n",
       "      <td>114.24</td>\n",
       "      <td>54.00</td>\n",
       "      <td>26.48</td>\n",
       "      <td>50.6</td>\n",
       "      <td>1995.82</td>\n",
       "    </tr>\n",
       "    <tr>\n",
       "      <th>2</th>\n",
       "      <td>2020-05-01</td>\n",
       "      <td>62.52</td>\n",
       "      <td>500.0</td>\n",
       "      <td>1150.00</td>\n",
       "      <td>208.94</td>\n",
       "      <td>4189.00</td>\n",
       "      <td>0.00</td>\n",
       "      <td>0.00</td>\n",
       "      <td>400.0</td>\n",
       "      <td>0.0</td>\n",
       "      <td>...</td>\n",
       "      <td>0.0</td>\n",
       "      <td>431.73</td>\n",
       "      <td>200.0</td>\n",
       "      <td>5480.0</td>\n",
       "      <td>0.00</td>\n",
       "      <td>0.00</td>\n",
       "      <td>19.97</td>\n",
       "      <td>21.48</td>\n",
       "      <td>0.0</td>\n",
       "      <td>483.82</td>\n",
       "    </tr>\n",
       "    <tr>\n",
       "      <th>3</th>\n",
       "      <td>2020-04-01</td>\n",
       "      <td>0.00</td>\n",
       "      <td>400.0</td>\n",
       "      <td>1420.00</td>\n",
       "      <td>0.00</td>\n",
       "      <td>794.95</td>\n",
       "      <td>0.00</td>\n",
       "      <td>0.00</td>\n",
       "      <td>0.0</td>\n",
       "      <td>0.0</td>\n",
       "      <td>...</td>\n",
       "      <td>0.0</td>\n",
       "      <td>508.69</td>\n",
       "      <td>200.0</td>\n",
       "      <td>16360.0</td>\n",
       "      <td>0.00</td>\n",
       "      <td>0.00</td>\n",
       "      <td>59.00</td>\n",
       "      <td>21.48</td>\n",
       "      <td>0.0</td>\n",
       "      <td>493.23</td>\n",
       "    </tr>\n",
       "    <tr>\n",
       "      <th>4</th>\n",
       "      <td>2020-03-01</td>\n",
       "      <td>122.54</td>\n",
       "      <td>39.0</td>\n",
       "      <td>1681.00</td>\n",
       "      <td>73.95</td>\n",
       "      <td>83.80</td>\n",
       "      <td>0.00</td>\n",
       "      <td>0.00</td>\n",
       "      <td>0.0</td>\n",
       "      <td>180.0</td>\n",
       "      <td>...</td>\n",
       "      <td>0.0</td>\n",
       "      <td>1197.96</td>\n",
       "      <td>200.0</td>\n",
       "      <td>41470.0</td>\n",
       "      <td>32.32</td>\n",
       "      <td>123.40</td>\n",
       "      <td>68.48</td>\n",
       "      <td>31.98</td>\n",
       "      <td>0.0</td>\n",
       "      <td>704.53</td>\n",
       "    </tr>\n",
       "  </tbody>\n",
       "</table>\n",
       "<p>5 rows × 21 columns</p>\n",
       "</div>"
      ],
      "text/plain": [
       "         DATE  Auto & transport  Bottleshops  Cash Out  Chemists  Education  \\\n",
       "0  2020-07-01             12.50       1200.0   3246.06     85.00      22.75   \n",
       "1  2020-06-01            165.56       1000.0    150.00     30.44      35.64   \n",
       "2  2020-05-01             62.52        500.0   1150.00    208.94    4189.00   \n",
       "3  2020-04-01              0.00        400.0   1420.00      0.00     794.95   \n",
       "4  2020-03-01            122.54         39.0   1681.00     73.95      83.80   \n",
       "\n",
       "   Entertainment  Fast food restaurants  Fees & charges  Gifts & donations  \\\n",
       "0           0.00                 115.94           500.0                5.5   \n",
       "1           7.49                  30.00           300.0                0.0   \n",
       "2           0.00                   0.00           400.0                0.0   \n",
       "3           0.00                   0.00             0.0                0.0   \n",
       "4           0.00                   0.00             0.0              180.0   \n",
       "\n",
       "   ...  Hotels, motels & resorts  Insurance  Investments  Loan Pay  \\\n",
       "0  ...                       0.0     404.95        200.0    7480.0   \n",
       "1  ...                       0.0     572.20        200.0    3490.0   \n",
       "2  ...                       0.0     431.73        200.0    5480.0   \n",
       "3  ...                       0.0     508.69        200.0   16360.0   \n",
       "4  ...                       0.0    1197.96        200.0   41470.0   \n",
       "\n",
       "   Miscellaneous  Restaurants & dining  Retail Shopping  Subscription  Travel  \\\n",
       "0          95.96                 23.00            55.13         21.48     0.0   \n",
       "1         151.77                114.24            54.00         26.48    50.6   \n",
       "2           0.00                  0.00            19.97         21.48     0.0   \n",
       "3           0.00                  0.00            59.00         21.48     0.0   \n",
       "4          32.32                123.40            68.48         31.98     0.0   \n",
       "\n",
       "   Utilities  \n",
       "0     386.87  \n",
       "1    1995.82  \n",
       "2     483.82  \n",
       "3     493.23  \n",
       "4     704.53  \n",
       "\n",
       "[5 rows x 21 columns]"
      ]
     },
     "execution_count": 102,
     "metadata": {},
     "output_type": "execute_result"
    }
   ],
   "source": [
    "table.to_csv('verify.csv')\n",
    "df = pd.read_csv('verify.csv')\n",
    "df = df.drop(['Unnamed: 0','MONTH','YEAR','INCOME'], axis=1)\n",
    "df.head()"
   ]
  },
  {
   "cell_type": "code",
   "execution_count": 103,
   "metadata": {
    "ExecuteTime": {
     "end_time": "2020-08-18T13:36:40.329793Z",
     "start_time": "2020-08-18T13:36:36.215934Z"
    }
   },
   "outputs": [
    {
     "data": {
      "image/png": "[encoded data removed]",
      "text/plain": [
       "<Figure size 504x504 with 2 Axes>"
      ]
     },
     "metadata": {
      "needs_background": "light"
     },
     "output_type": "display_data"
    }
   ],
   "source": [
    "import seaborn as sns\n",
    "import matplotlib.pyplot as plt\n",
    "from heatmap import heatmap, corrplot\n",
    "from pylab import rcParams\n",
    "rcParams['figure.figsize'] = 7,7 \n",
    "\n",
    "corr = df.corr()\n",
    "sns.heatmap(corr, annot=True)\n",
    "plt.show()"
   ]
  },
  {
   "cell_type": "code",
   "execution_count": 104,
   "metadata": {
    "ExecuteTime": {
     "end_time": "2020-08-18T13:36:41.519905Z",
     "start_time": "2020-08-18T13:36:40.601617Z"
    }
   },
   "outputs": [
    {
     "data": {
      "image/png": "[encoded data removed]",
      "text/plain": [
       "<Figure size 504x504 with 2 Axes>"
      ]
     },
     "metadata": {
      "needs_background": "light"
     },
     "output_type": "display_data"
    }
   ],
   "source": [
    "ax = sns.heatmap(\n",
    "    corr, \n",
    "    vmin=-1, vmax=1, center=0,\n",
    "    cmap=sns.diverging_palette(20, 220, n=200),\n",
    "    square=True\n",
    ")\n",
    "ax.set_xticklabels(\n",
    "    ax.get_xticklabels(),\n",
    "    rotation=45,\n",
    "    horizontalalignment='right'\n",
    ");"
   ]
  },
  {
   "cell_type": "code",
   "execution_count": 105,
   "metadata": {
    "ExecuteTime": {
     "end_time": "2020-08-18T13:36:43.802813Z",
     "start_time": "2020-08-18T13:36:41.900612Z"
    }
   },
   "outputs": [
    {
     "data": {
      "image/png": "[encoded data removed]",
      "text/plain": [
       "<Figure size 576x576 with 2 Axes>"
      ]
     },
     "metadata": {
      "needs_background": "light"
     },
     "output_type": "display_data"
    }
   ],
   "source": [
    "plt.figure(figsize=(8, 8))\n",
    "corrplot(df.corr(), size_scale=300);"
   ]
  },
  {
   "cell_type": "markdown",
   "metadata": {},
   "source": [
    "* Positive Correlation: \n",
    "\n",
    "    ** Fees & charges vs Bottleshops: Suggests, lack of financial control. Spending on Bootleshops at the expense of paying interest charges.\n",
    "    \n",
    "    ** Loan Pay and Insurance: When loan pay is more, the corresponding insurance charges are also high.\n",
    "    \n",
    "    ** Chemist vs  Misc, Retaurant & dining , Retail shopping : Suggest eating wrong food. \n",
    "    \n",
    "    \n",
    "* Negative Correlation: \n",
    "\n",
    "    ** Auto & Transport vs Bottleshops : Suggests, when work-from-home, expenses on drinks are high.\n",
    "    \n",
    "    ** Gifts & Donations, Restaurant dining, Retail Shopping vs Bottleshops:\n",
    "    \n",
    "    ** Auto & Transport vs Fees & Charges : Suggests, when work-from-home, defaults on interests are more\n",
    "    \n",
    "    ** Education vs Restaurant dining:  \n",
    "    \n",
    "    ** Cashout vs Utilities: When not paying utilities, there are some miscellaneous expenses.\n",
    "    \n",
    "    ** Retail shopping, Grocery vs Cashout: Suggests, spending on Card.\n",
    "    \n",
    "    ** Cash out vs Investment: \n",
    "    \n",
    "    ** Fast food restaurant vs Loan Pay :  Suggests, customer is preferring to pay for fast food over loan payments.\n",
    "    \n",
    "    ** Subscriptions vs Fast food , Entertainment : Suggests, when at home expense on fast food and outside entertainment is less.\n",
    "    \n",
    "    \n",
    "    \n",
    "    "
   ]
  },
  {
   "cell_type": "code",
   "execution_count": null,
   "metadata": {},
   "outputs": [],
   "source": []
  }
 ],
 "metadata": {
  "kernelspec": {
   "display_name": "Python 3",
   "language": "python",
   "name": "python3"
  },
  "language_info": {
   "codemirror_mode": {
    "name": "ipython",
    "version": 3
   },
   "file_extension": ".py",
   "mimetype": "text/x-python",
   "name": "python",
   "nbconvert_exporter": "python",
   "pygments_lexer": "ipython3",
   "version": "3.7.4"
  },
  "toc": {
   "base_numbering": 1,
   "nav_menu": {},
   "number_sections": true,
   "sideBar": true,
   "skip_h1_title": false,
   "title_cell": "Table of Contents",
   "title_sidebar": "Contents",
   "toc_cell": false,
   "toc_position": {
    "height": "calc(100% - 180px)",
    "left": "10px",
    "top": "150px",
    "width": "329px"
   },
   "toc_section_display": true,
   "toc_window_display": true
  },
  "varInspector": {
   "cols": {
    "lenName": 16,
    "lenType": 16,
    "lenVar": 40
   },
   "kernels_config": {
    "python": {
     "delete_cmd_postfix": "",
     "delete_cmd_prefix": "del ",
     "library": "var_list.py",
     "varRefreshCmd": "print(var_dic_list())"
    },
    "r": {
     "delete_cmd_postfix": ") ",
     "delete_cmd_prefix": "rm(",
     "library": "var_list.r",
     "varRefreshCmd": "cat(var_dic_list()) "
    }
   },
   "types_to_exclude": [
    "module",
    "function",
    "builtin_function_or_method",
    "instance",
    "_Feature"
   ],
   "window_display": false
  }
 },
 "nbformat": 4,
 "nbformat_minor": 4
}
